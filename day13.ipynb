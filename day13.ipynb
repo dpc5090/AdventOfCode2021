{
 "cells": [
  {
   "cell_type": "code",
   "execution_count": 14,
   "metadata": {},
   "outputs": [],
   "source": [
    "from collections import Counter, deque"
   ]
  },
  {
   "cell_type": "code",
   "execution_count": 15,
   "metadata": {},
   "outputs": [],
   "source": [
    "import numpy as np\n",
    "import pandas as pd\n",
    "import heapq\n"
   ]
  },
  {
   "cell_type": "code",
   "execution_count": 80,
   "metadata": {},
   "outputs": [
    {
     "name": "stdout",
     "output_type": "stream",
     "text": [
      "x 655\n"
     ]
    }
   ],
   "source": [
    "f = open(\"day13.txt\",'r')\n",
    "\n",
    "\n",
    "data,instructions = f.read().split(\"\\n\\n\")\n",
    "\n",
    "data =[[int(x) for x in row.split(\",\")]for row in data.split(\"\\n\")]\n",
    "data = np.array(data)\n",
    "\n",
    "instructions = [row.split(\" \")[-1].split(\"=\")for row in instructions.split(\"\\n\")]\n",
    "\n",
    "for axis, i in instructions:\n",
    "    print(axis, i)\n",
    "    i = int(i)\n",
    "    if axis == \"x\":\n",
    "        data[data[:,0]>i,0] = i-data[data[:,0]>i,0]+i\n",
    "    if axis == \"y\":\n",
    "        data[data[:,1]>i,1] = i-data[data[:,1]>i,1]+i\n",
    "    break"
   ]
  },
  {
   "cell_type": "code",
   "execution_count": 82,
   "metadata": {},
   "outputs": [
    {
     "data": {
      "text/plain": [
       "810"
      ]
     },
     "execution_count": 82,
     "metadata": {},
     "output_type": "execute_result"
    }
   ],
   "source": [
    "s = set()\n",
    "for row in data:\n",
    "    s.add(\"_\".join(list(row.astype(str))))\n",
    "len(s)"
   ]
  },
  {
   "cell_type": "code",
   "execution_count": 83,
   "metadata": {},
   "outputs": [
    {
     "name": "stdout",
     "output_type": "stream",
     "text": [
      "x 655\n",
      "y 447\n",
      "x 327\n",
      "y 223\n",
      "x 163\n",
      "y 111\n",
      "x 81\n",
      "y 55\n",
      "x 40\n",
      "y 27\n",
      "y 13\n",
      "y 6\n"
     ]
    }
   ],
   "source": [
    "f = open(\"day13.txt\",'r')\n",
    "\n",
    "\n",
    "data,instructions = f.read().split(\"\\n\\n\")\n",
    "\n",
    "data =[[int(x) for x in row.split(\",\")]for row in data.split(\"\\n\")]\n",
    "data = np.array(data)\n",
    "\n",
    "instructions = [row.split(\" \")[-1].split(\"=\")for row in instructions.split(\"\\n\")]\n",
    "\n",
    "for axis, i in instructions:\n",
    "    print(axis, i)\n",
    "    i = int(i)\n",
    "    if axis == \"x\":\n",
    "        data[data[:,0]>i,0] = i-data[data[:,0]>i,0]+i\n",
    "    if axis == \"y\":\n",
    "        data[data[:,1]>i,1] = i-data[data[:,1]>i,1]+i\n"
   ]
  },
  {
   "cell_type": "code",
   "execution_count": 93,
   "metadata": {},
   "outputs": [],
   "source": [
    "output = np.zeros([data[:,0].max()+1,data[:,1].max()+1])"
   ]
  },
  {
   "cell_type": "code",
   "execution_count": 96,
   "metadata": {},
   "outputs": [
    {
     "data": {
      "text/plain": [
       "array([[1., 1., 1., 1., 1., 1.],\n",
       "       [0., 0., 1., 0., 0., 0.],\n",
       "       [0., 0., 1., 0., 0., 0.],\n",
       "       [1., 1., 1., 1., 1., 1.],\n",
       "       [0., 0., 0., 0., 0., 0.],\n",
       "       [1., 1., 1., 1., 1., 1.],\n",
       "       [0., 0., 0., 0., 0., 1.],\n",
       "       [0., 0., 0., 0., 0., 1.],\n",
       "       [0., 0., 0., 0., 0., 1.],\n",
       "       [0., 0., 0., 0., 0., 0.],\n",
       "       [1., 1., 1., 1., 1., 1.],\n",
       "       [1., 0., 1., 0., 0., 1.],\n",
       "       [1., 0., 1., 0., 0., 1.],\n",
       "       [0., 1., 0., 1., 1., 0.],\n",
       "       [0., 0., 0., 0., 0., 0.],\n",
       "       [1., 1., 1., 1., 1., 0.],\n",
       "       [0., 0., 0., 0., 0., 1.],\n",
       "       [0., 0., 0., 0., 0., 1.],\n",
       "       [1., 1., 1., 1., 1., 0.],\n",
       "       [0., 0., 0., 0., 0., 0.],\n",
       "       [1., 1., 1., 1., 1., 1.],\n",
       "       [1., 0., 1., 0., 0., 1.],\n",
       "       [1., 0., 1., 0., 0., 1.],\n",
       "       [0., 1., 0., 1., 1., 0.],\n",
       "       [0., 0., 0., 0., 0., 0.],\n",
       "       [0., 1., 1., 1., 1., 0.],\n",
       "       [1., 0., 0., 0., 0., 1.],\n",
       "       [1., 0., 0., 1., 0., 1.],\n",
       "       [0., 1., 0., 1., 1., 1.],\n",
       "       [0., 0., 0., 0., 0., 0.],\n",
       "       [1., 1., 1., 1., 1., 1.],\n",
       "       [1., 0., 1., 0., 0., 0.],\n",
       "       [1., 0., 1., 0., 0., 0.],\n",
       "       [1., 0., 0., 0., 0., 0.],\n",
       "       [0., 0., 0., 0., 0., 0.],\n",
       "       [1., 1., 1., 1., 1., 1.],\n",
       "       [1., 0., 0., 1., 0., 0.],\n",
       "       [1., 0., 0., 1., 1., 0.],\n",
       "       [0., 1., 1., 0., 0., 1.]])"
      ]
     },
     "execution_count": 96,
     "metadata": {},
     "output_type": "execute_result"
    }
   ],
   "source": [
    "for row in data:\n",
    "    output[row[0],row[1]] = 1\n",
    "output"
   ]
  },
  {
   "cell_type": "code",
   "execution_count": null,
   "metadata": {},
   "outputs": [],
   "source": [
    "HLBUBGFR"
   ]
  }
 ],
 "metadata": {
  "kernelspec": {
   "display_name": "Python 3",
   "language": "python",
   "name": "python3"
  },
  "language_info": {
   "codemirror_mode": {
    "name": "ipython",
    "version": 3
   },
   "file_extension": ".py",
   "mimetype": "text/x-python",
   "name": "python",
   "nbconvert_exporter": "python",
   "pygments_lexer": "ipython3",
   "version": "3.8.5"
  }
 },
 "nbformat": 4,
 "nbformat_minor": 4
}
