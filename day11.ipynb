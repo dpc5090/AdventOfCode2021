{
 "cells": [
  {
   "cell_type": "code",
   "execution_count": 1,
   "metadata": {},
   "outputs": [],
   "source": [
    "from collections import Counter, deque"
   ]
  },
  {
   "cell_type": "code",
   "execution_count": 2,
   "metadata": {},
   "outputs": [],
   "source": [
    "import numpy as np\n",
    "import pandas as pd\n",
    "import heapq\n"
   ]
  },
  {
   "cell_type": "code",
   "execution_count": 100,
   "metadata": {},
   "outputs": [],
   "source": [
    "f = open(\"day11.txt\",'r')\n",
    "data = f.read().split(\"\\n\")\n"
   ]
  },
  {
   "cell_type": "code",
   "execution_count": 215,
   "metadata": {},
   "outputs": [],
   "source": [
    "data = '''5483143223\n",
    "2745854711\n",
    "5264556173\n",
    "6141336146\n",
    "6357385478\n",
    "4167524645\n",
    "2176841721\n",
    "6882881134\n",
    "4846848554\n",
    "5283751526'''.split(\"\\n\")\n",
    "\n",
    "\n",
    "data = np.array([[int(d) for d in row] for row in data])"
   ]
  },
  {
   "cell_type": "code",
   "execution_count": 216,
   "metadata": {
    "scrolled": false
   },
   "outputs": [
    {
     "name": "stdout",
     "output_type": "stream",
     "text": [
      "0\n",
      "[[5 4 8 3 1 4 3 2 2 3]\n",
      " [2 7 4 5 8 5 4 7 1 1]\n",
      " [5 2 6 4 5 5 6 1 7 3]\n",
      " [6 1 4 1 3 3 6 1 4 6]\n",
      " [6 3 5 7 3 8 5 4 7 8]\n",
      " [4 1 6 7 5 2 4 6 4 5]\n",
      " [2 1 7 6 8 4 1 7 2 1]\n",
      " [6 8 8 2 8 8 1 1 3 4]\n",
      " [4 8 4 6 8 4 8 5 5 4]\n",
      " [5 2 8 3 7 5 1 5 2 6]]\n",
      "1\n",
      "[[6 5 9 4 2 5 4 3 3 4]\n",
      " [3 8 5 6 9 6 5 8 2 2]\n",
      " [6 3 7 5 6 6 7 2 8 4]\n",
      " [7 2 5 2 4 4 7 2 5 7]\n",
      " [7 4 6 8 4 9 6 5 8 9]\n",
      " [5 2 7 8 6 3 5 7 5 6]\n",
      " [3 2 8 7 9 5 2 8 3 2]\n",
      " [7 9 9 3 9 9 2 2 4 5]\n",
      " [5 9 5 7 9 5 9 6 6 5]\n",
      " [6 3 9 4 8 6 2 6 3 7]]\n",
      "2\n",
      "[[8 8 0 7 4 7 6 5 5 5]\n",
      " [5 0 8 9 0 8 7 0 5 4]\n",
      " [8 5 9 7 8 8 9 6 0 8]\n",
      " [8 4 8 5 7 6 9 6 0 0]\n",
      " [8 7 0 0 9 0 8 8 0 0]\n",
      " [6 6 0 0 0 8 8 9 8 9]\n",
      " [6 8 0 0 0 0 5 9 4 3]\n",
      " [0 0 0 0 0 0 7 4 5 6]\n",
      " [9 0 0 0 0 0 0 8 7 6]\n",
      " [8 7 0 0 0 0 6 8 4 8]]\n",
      "3\n",
      "[[0 0 5 0 9 0 0 8 6 6]\n",
      " [8 5 0 0 8 0 0 5 7 5]\n",
      " [9 9 0 0 0 0 0 0 3 9]\n",
      " [9 7 0 0 0 0 0 0 4 1]\n",
      " [9 9 3 5 0 8 0 0 6 3]\n",
      " [7 7 1 2 3 0 0 0 0 0]\n",
      " [7 9 1 1 2 5 0 0 0 9]\n",
      " [2 2 1 1 1 3 0 0 0 0]\n",
      " [0 4 2 1 1 2 5 0 0 0]\n",
      " [0 0 2 1 1 1 9 0 0 0]]\n",
      "4\n",
      "[[2 2 6 3 0 3 1 9 7 7]\n",
      " [0 9 2 3 0 3 1 6 9 7]\n",
      " [0 0 3 2 2 2 1 1 5 0]\n",
      " [0 0 4 1 1 1 1 1 6 3]\n",
      " [0 0 7 6 1 9 1 1 7 4]\n",
      " [0 0 5 3 4 1 1 1 2 2]\n",
      " [0 0 4 2 3 6 1 1 2 0]\n",
      " [4 4 3 2 2 4 1 1 2 2]\n",
      " [1 5 3 2 2 4 7 2 1 1]\n",
      " [1 1 3 2 2 3 0 2 1 1]]\n"
     ]
    },
    {
     "data": {
      "text/plain": [
       "1"
      ]
     },
     "execution_count": 216,
     "metadata": {},
     "output_type": "execute_result"
    }
   ],
   "source": [
    "steps = []\n",
    "count = 0\n",
    "for i in range(5):\n",
    "    steps.append(data.copy())\n",
    "    print(i)\n",
    "    print(data)\n",
    "    data+=1\n",
    "    flashed = []\n",
    "    while (data == 10).sum()>0:\n",
    "        data_copy = data.copy()\n",
    "        for i in range(len(data)):\n",
    "            for j in range(len(data)):\n",
    "                if data[i,j] >9:\n",
    "                    x_min = max(i-1,0)\n",
    "                    x_max = min(i+1,len(data))\n",
    "                    y_min = max(j-1,0)\n",
    "                    y_max = min(j+1,len(data))\n",
    "                    data_copy[x_min:x_max+1, y_min:y_max+1] += 1\n",
    "                    flashed.append([i,j])\n",
    "                    data_copy[i,j]=0\n",
    "        for f in flashed:\n",
    "            data_copy[f[0],f[1]]=0\n",
    "        data = data_copy.copy()\n",
    "        \n",
    "                    \n",
    "        \n",
    "    count+=(data>9).sum()\n",
    "    data[data>9] = 0\n",
    "#     print(data)\n",
    "#     print()\n",
    "    if data.sum() == 0:\n",
    "        print(i)\n",
    "        break\n",
    "count"
   ]
  },
  {
   "cell_type": "code",
   "execution_count": null,
   "metadata": {},
   "outputs": [],
   "source": []
  },
  {
   "cell_type": "code",
   "execution_count": 217,
   "metadata": {
    "scrolled": false
   },
   "outputs": [
    {
     "data": {
      "text/plain": [
       "array([[4, 4, 8, 4, 1, 4, 4, 0, 0, 0],\n",
       "       [2, 0, 4, 4, 1, 4, 4, 0, 0, 0],\n",
       "       [2, 2, 5, 3, 3, 3, 3, 4, 9, 3],\n",
       "       [1, 1, 5, 2, 3, 3, 3, 2, 7, 4],\n",
       "       [1, 1, 8, 7, 3, 0, 3, 2, 8, 5],\n",
       "       [1, 1, 6, 4, 6, 3, 3, 2, 3, 3],\n",
       "       [1, 1, 5, 3, 4, 7, 2, 2, 3, 1],\n",
       "       [5, 5, 4, 3, 3, 5, 2, 2, 3, 3],\n",
       "       [2, 6, 4, 3, 3, 5, 8, 3, 2, 2],\n",
       "       [2, 2, 4, 3, 3, 4, 1, 3, 2, 2]])"
      ]
     },
     "execution_count": 217,
     "metadata": {},
     "output_type": "execute_result"
    }
   ],
   "source": [
    "data"
   ]
  },
  {
   "cell_type": "code",
   "execution_count": 236,
   "metadata": {},
   "outputs": [],
   "source": [
    "temp = '''0050900866\n",
    "8500800575\n",
    "9900000039\n",
    "9700000041\n",
    "9935080063\n",
    "7712300000\n",
    "7911250009\n",
    "2211130000\n",
    "0421125000\n",
    "0021119000'''.split(\"\\n\")\n",
    "\n",
    "\n",
    "temp = np.array([[int(d) for d in row] for row in temp])"
   ]
  },
  {
   "cell_type": "code",
   "execution_count": 237,
   "metadata": {},
   "outputs": [
    {
     "data": {
      "text/plain": [
       "True"
      ]
     },
     "execution_count": 237,
     "metadata": {},
     "output_type": "execute_result"
    }
   ],
   "source": [
    "np.all(temp == steps[3])"
   ]
  },
  {
   "cell_type": "code",
   "execution_count": 235,
   "metadata": {},
   "outputs": [
    {
     "data": {
      "text/plain": [
       "array([[6, 5, 9, 4, 2, 5, 4, 3, 3, 4],\n",
       "       [3, 8, 5, 6, 9, 6, 5, 8, 2, 2],\n",
       "       [6, 3, 7, 5, 6, 6, 7, 2, 8, 4],\n",
       "       [7, 2, 5, 2, 4, 4, 7, 2, 5, 7],\n",
       "       [7, 4, 6, 8, 4, 9, 6, 5, 8, 9],\n",
       "       [5, 2, 7, 8, 6, 3, 5, 7, 5, 6],\n",
       "       [3, 2, 8, 7, 9, 5, 2, 8, 3, 2],\n",
       "       [7, 9, 9, 3, 9, 9, 2, 2, 4, 5],\n",
       "       [5, 9, 5, 7, 9, 5, 9, 6, 6, 5],\n",
       "       [6, 3, 9, 4, 8, 6, 2, 6, 3, 7]])"
      ]
     },
     "execution_count": 235,
     "metadata": {},
     "output_type": "execute_result"
    }
   ],
   "source": [
    "steps[1]"
   ]
  },
  {
   "cell_type": "code",
   "execution_count": 221,
   "metadata": {},
   "outputs": [
    {
     "data": {
      "text/plain": [
       "array([[4, 4, 8, 4, 1, 4, 4, 0, 0, 0],\n",
       "       [2, 0, 4, 4, 1, 4, 4, 0, 0, 0],\n",
       "       [2, 2, 5, 3, 3, 3, 3, 4, 9, 3],\n",
       "       [1, 1, 5, 2, 3, 3, 3, 2, 7, 4],\n",
       "       [1, 1, 8, 7, 3, 0, 3, 2, 8, 5],\n",
       "       [1, 1, 6, 4, 6, 3, 3, 2, 3, 3],\n",
       "       [1, 1, 5, 3, 4, 7, 2, 2, 3, 1],\n",
       "       [5, 5, 4, 3, 3, 5, 2, 2, 3, 3],\n",
       "       [2, 6, 4, 3, 3, 5, 8, 3, 2, 2],\n",
       "       [2, 2, 4, 3, 3, 4, 1, 3, 2, 2]])"
      ]
     },
     "execution_count": 221,
     "metadata": {},
     "output_type": "execute_result"
    }
   ],
   "source": [
    "temp"
   ]
  },
  {
   "cell_type": "code",
   "execution_count": null,
   "metadata": {},
   "outputs": [],
   "source": []
  }
 ],
 "metadata": {
  "kernelspec": {
   "display_name": "Python 3 (ipykernel)",
   "language": "python",
   "name": "python3"
  },
  "language_info": {
   "codemirror_mode": {
    "name": "ipython",
    "version": 3
   },
   "file_extension": ".py",
   "mimetype": "text/x-python",
   "name": "python",
   "nbconvert_exporter": "python",
   "pygments_lexer": "ipython3",
   "version": "3.10.1"
  }
 },
 "nbformat": 4,
 "nbformat_minor": 4
}
