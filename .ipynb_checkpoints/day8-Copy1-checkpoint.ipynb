{
 "cells": [
  {
   "cell_type": "code",
   "execution_count": 1,
   "metadata": {},
   "outputs": [],
   "source": [
    "from collections import Counter, deque"
   ]
  },
  {
   "cell_type": "code",
   "execution_count": 2,
   "metadata": {},
   "outputs": [],
   "source": [
    "import numpy as np\n",
    "import pandas as pd\n",
    "import heapq\n"
   ]
  },
  {
   "cell_type": "code",
   "execution_count": 9,
   "metadata": {},
   "outputs": [],
   "source": [
    "f = open(\"day8.txt\",'r')\n",
    "data = f.read()\n"
   ]
  },
  {
   "cell_type": "code",
   "execution_count": 10,
   "metadata": {},
   "outputs": [],
   "source": [
    "data = [x.split(\"|\") for x in data.split(\"\\n\")]"
   ]
  },
  {
   "cell_type": "code",
   "execution_count": 16,
   "metadata": {
    "scrolled": true
   },
   "outputs": [
    {
     "data": {
      "text/plain": [
       "239"
      ]
     },
     "execution_count": 16,
     "metadata": {},
     "output_type": "execute_result"
    }
   ],
   "source": [
    "\n",
    "count = 0\n",
    "for row in data:\n",
    "    left, right = row\n",
    "    left = left.strip().split(\" \")\n",
    "    right = right.strip().split(\" \")\n",
    "    \n",
    "\n",
    "    for item in right:\n",
    "        if len(item) in [2,4,7,3]:\n",
    "            count+=1\n",
    "            \n",
    "count\n"
   ]
  },
  {
   "cell_type": "code",
   "execution_count": 63,
   "metadata": {},
   "outputs": [
    {
     "data": {
      "text/plain": [
       "946346"
      ]
     },
     "execution_count": 63,
     "metadata": {},
     "output_type": "execute_result"
    }
   ],
   "source": [
    "\n",
    "count = 0\n",
    "\n",
    "for row in data:\n",
    "    left, right = row\n",
    "    left = left.strip().split(\" \")\n",
    "    right = right.strip().split(\" \")\n",
    "    \n",
    "    counts  = Counter(\"\".join(left))\n",
    "    counts\n",
    "    strs = {i:None for i in range(10)}\n",
    "    strs\n",
    "    for s in left:\n",
    "        if len(s) == 2:\n",
    "            strs[1] = s\n",
    "        if len(s) == 4:\n",
    "            strs[4] = s\n",
    "        if len(s) == 3:\n",
    "            strs[7] = s\n",
    "        if len(s) == 7:\n",
    "            strs[8] = s\n",
    "    strs\n",
    "    positions = {}\n",
    "    positions['top']=list(set(strs[1])^set(strs[7]))[0]\n",
    "\n",
    "    for key in counts:\n",
    "        if counts[key] == 6:\n",
    "            positions['top-left'] = key\n",
    "        if counts[key] == 4:\n",
    "            positions['bottom-left'] = key\n",
    "\n",
    "    positions['middle'] = list(set(strs[4])^set(strs[1]+positions['top-left']))[0]\n",
    "\n",
    "    for key in counts:\n",
    "        if counts[key] == 8:\n",
    "            if key != positions['top']:\n",
    "                positions['top-right'] = key\n",
    "\n",
    "    positions['bottom-right']=list(set(strs[1])^set(positions['top-right']))[0]\n",
    "\n",
    "    positions['bottom'] = list(set(\"\".join(positions.values()))^set(\"abcdefg\"))[0]\n",
    "    positions\n",
    "    strs[0] = \"\".join([positions['top'],positions['top-left'],positions['top-right'],positions['bottom-left'],positions['bottom-right'],positions['bottom']])\n",
    "    strs[2] = \"\".join([positions['top'],positions['top-right'],positions['bottom-left'],positions['middle'],positions['bottom']])\n",
    "    strs[3] = \"\".join([positions['top'],positions['middle'],positions['top-right'],positions['bottom-right'],positions['bottom']])\n",
    "    strs[5] = \"\".join([positions['top'],positions['top-left'],positions['middle'],positions['bottom-right'],positions['bottom']])\n",
    "\n",
    "    strs[6] = \"\".join([positions['top'],positions['top-left'],positions['middle'],positions['bottom-left'],positions['bottom-right'],positions['bottom']])\n",
    "\n",
    "    strs[9] = \"\".join([positions['top'],positions['top-left'],positions['top-right'],positions['middle'],positions['bottom-right'],positions['bottom']])\n",
    "    strs\n",
    "    for key in strs:\n",
    "        strs[key] = \"\".join(sorted(strs[key]))\n",
    "    strs\n",
    "    out = \"\"\n",
    "    for s in right:\n",
    "        s = \"\".join(sorted(s))\n",
    "        for key in strs:\n",
    "            if strs[key] == s:\n",
    "                out+=str(key)\n",
    "    count+=int(out)\n",
    "count\n"
   ]
  }
 ],
 "metadata": {
  "kernelspec": {
   "display_name": "Python 3",
   "language": "python",
   "name": "python3"
  },
  "language_info": {
   "codemirror_mode": {
    "name": "ipython",
    "version": 3
   },
   "file_extension": ".py",
   "mimetype": "text/x-python",
   "name": "python",
   "nbconvert_exporter": "python",
   "pygments_lexer": "ipython3",
   "version": "3.8.5"
  }
 },
 "nbformat": 4,
 "nbformat_minor": 4
}
