{
 "cells": [
  {
   "cell_type": "code",
   "execution_count": 3,
   "metadata": {},
   "outputs": [],
   "source": [
    "from collections import Counter, deque"
   ]
  },
  {
   "cell_type": "code",
   "execution_count": 4,
   "metadata": {},
   "outputs": [],
   "source": [
    "import numpy as np\n",
    "import pandas as pd\n",
    "import heapq\n"
   ]
  },
  {
   "cell_type": "code",
   "execution_count": 130,
   "metadata": {},
   "outputs": [],
   "source": [
    "f = open(\"day14.txt\",'r')\n",
    "\n",
    "\n",
    "ins,mapping = f.read().split(\"\\n\\n\")\n",
    "\n"
   ]
  },
  {
   "cell_type": "code",
   "execution_count": 131,
   "metadata": {},
   "outputs": [],
   "source": [
    "# ins,mapping  = '''NNCB\n",
    "\n",
    "# CH -> B\n",
    "# HH -> N\n",
    "# CB -> H\n",
    "# NH -> C\n",
    "# HB -> C\n",
    "# HC -> B\n",
    "# HN -> C\n",
    "# NN -> C\n",
    "# BH -> H\n",
    "# NC -> B\n",
    "# NB -> B\n",
    "# BN -> B\n",
    "# BB -> N\n",
    "# BC -> B\n",
    "# CC -> N\n",
    "# CN -> C'''.split(\"\\n\\n\")"
   ]
  },
  {
   "cell_type": "code",
   "execution_count": 132,
   "metadata": {
    "scrolled": true
   },
   "outputs": [],
   "source": [
    "mapper  = {item.split(\" -> \")[0]:item.split(\" -> \")[1] for item in mapping.split(\"\\n\")}\n"
   ]
  },
  {
   "cell_type": "code",
   "execution_count": 133,
   "metadata": {},
   "outputs": [],
   "source": [
    "d = []\n",
    "for i in range(len(ins)-1):\n",
    "    d.append(ins[i:i+2])\n",
    "\n",
    "\n",
    "c= Counter(d)\n"
   ]
  },
  {
   "cell_type": "code",
   "execution_count": 148,
   "metadata": {
    "scrolled": true
   },
   "outputs": [
    {
     "name": "stdout",
     "output_type": "stream",
     "text": [
      "0 19\n",
      "1 38\n",
      "2 76\n",
      "3 152\n",
      "4 304\n",
      "5 608\n",
      "6 1216\n",
      "7 2432\n",
      "8 4864\n",
      "9 9728\n"
     ]
    },
    {
     "data": {
      "text/plain": [
       "2321.0"
      ]
     },
     "execution_count": 148,
     "metadata": {},
     "output_type": "execute_result"
    }
   ],
   "source": [
    "d = []\n",
    "for i in range(len(ins)-1):\n",
    "    d.append(ins[i:i+2])\n",
    "\n",
    "\n",
    "c= Counter(d)\n",
    "\n",
    "for i in range(10):\n",
    "    print(i,sum(list(c.values())))\n",
    "    d = {}\n",
    "    for key in c:\n",
    "        count = c[key]\n",
    "        new_key1 = key[0]+mapper[key]\n",
    "        new_key2 = mapper[key]+key[1]\n",
    "\n",
    "        if new_key1 in d:\n",
    "            val = d[new_key1]\n",
    "        else:\n",
    "            val = 0\n",
    "        d[new_key1] = val+count\n",
    "        \n",
    "        if new_key2 in d:\n",
    "            val = d[new_key2]\n",
    "        else:\n",
    "            val = 0\n",
    "\n",
    "        d[new_key2] = val+count\n",
    "    c = d.copy()\n",
    "\n",
    "output = {}\n",
    "for key in d:\n",
    "    c1 = key[0]\n",
    "    c2 = key[1]\n",
    "    if c1 in output:\n",
    "        output[c1] += d[key]\n",
    "    else:\n",
    "        output[c1] = d[key]\n",
    "    if c2 in output:\n",
    "        output[c2] += d[key]\n",
    "    else:\n",
    "        output[c2] = d[key]\n",
    "output[ins[0]]-=1\n",
    "output[ins[-1]]-=1\n",
    "for key in output:\n",
    "    output[key]=output[key]/2\n",
    "output[ins[0]]==1\n",
    "output[ins[-1]]+=1\n",
    "\n",
    "max(list(output.values()))-min(list(output.values()))"
   ]
  },
  {
   "cell_type": "code",
   "execution_count": 149,
   "metadata": {},
   "outputs": [
    {
     "data": {
      "text/plain": [
       "2399822193707.0"
      ]
     },
     "execution_count": 149,
     "metadata": {},
     "output_type": "execute_result"
    }
   ],
   "source": [
    "d = []\n",
    "for i in range(len(ins)-1):\n",
    "    d.append(ins[i:i+2])\n",
    "\n",
    "\n",
    "c= Counter(d)\n",
    "\n",
    "\n",
    "for i in range(40):\n",
    "    d = {}\n",
    "    for key in c:\n",
    "        count = c[key]\n",
    "        new_key1 = key[0]+mapper[key]\n",
    "        new_key2 = mapper[key]+key[1]\n",
    "\n",
    "        if new_key1 in d:\n",
    "            val = d[new_key1]\n",
    "        else:\n",
    "            val = 0\n",
    "        d[new_key1] = val+count\n",
    "        \n",
    "        if new_key2 in d:\n",
    "            val = d[new_key2]\n",
    "        else:\n",
    "            val = 0\n",
    "\n",
    "        d[new_key2] = val+count\n",
    "    c = d.copy()\n",
    "sum(list(d.values()))+1\n",
    "\n",
    "output = {}\n",
    "for key in d:\n",
    "    c1 = key[0]\n",
    "    c2 = key[1]\n",
    "    if c1 in output:\n",
    "        output[c1] += d[key]\n",
    "    else:\n",
    "        output[c1] = d[key]\n",
    "    if c2 in output:\n",
    "        output[c2] += d[key]\n",
    "    else:\n",
    "        output[c2] = d[key]\n",
    "output[ins[0]]-=1\n",
    "output[ins[-1]]-=1\n",
    "for key in output:\n",
    "    output[key]=output[key]/2\n",
    "output[ins[0]]==1\n",
    "output[ins[-1]]+=1\n",
    "\n",
    "max(list(output.values()))-min(list(output.values()))"
   ]
  },
  {
   "cell_type": "code",
   "execution_count": null,
   "metadata": {},
   "outputs": [],
   "source": []
  }
 ],
 "metadata": {
  "kernelspec": {
   "display_name": "Python 3",
   "language": "python",
   "name": "python3"
  },
  "language_info": {
   "codemirror_mode": {
    "name": "ipython",
    "version": 3
   },
   "file_extension": ".py",
   "mimetype": "text/x-python",
   "name": "python",
   "nbconvert_exporter": "python",
   "pygments_lexer": "ipython3",
   "version": "3.8.5"
  }
 },
 "nbformat": 4,
 "nbformat_minor": 4
}
