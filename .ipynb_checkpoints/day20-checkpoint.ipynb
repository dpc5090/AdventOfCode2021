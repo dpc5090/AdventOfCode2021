{
 "cells": [
  {
   "cell_type": "code",
   "execution_count": 1,
   "metadata": {},
   "outputs": [],
   "source": [
    "from collections import Counter, deque"
   ]
  },
  {
   "cell_type": "code",
   "execution_count": 2,
   "metadata": {},
   "outputs": [],
   "source": [
    "import numpy as np\n",
    "import pandas as pd\n",
    "import heapq"
   ]
  },
  {
   "cell_type": "code",
   "execution_count": 20,
   "metadata": {},
   "outputs": [],
   "source": [
    "f = open(\"day20.txt\",'r')\n",
    "str_in, data = f.read().split(\"\\n\\n\")"
   ]
  },
  {
   "cell_type": "code",
   "execution_count": 21,
   "metadata": {
    "scrolled": true
   },
   "outputs": [],
   "source": [
    "str_in = str_in.replace(\"\\n\",\"\")"
   ]
  },
  {
   "cell_type": "code",
   "execution_count": 22,
   "metadata": {},
   "outputs": [],
   "source": [
    "data = data.replace(\".\",\"0\").replace(\"#\",\"1\")"
   ]
  },
  {
   "cell_type": "code",
   "execution_count": 23,
   "metadata": {},
   "outputs": [],
   "source": [
    "np_data = np.array([[int(item) for item in row]for row in data.split(\"\\n\")])"
   ]
  },
  {
   "cell_type": "code",
   "execution_count": 51,
   "metadata": {},
   "outputs": [],
   "source": [
    "def padData(data, i):\n",
    "    if i%2 == 1:\n",
    "        zeros = np.ones([data.shape[0]+6,data.shape[1]+6])\n",
    "    else:\n",
    "        zeros = np.zeros([data.shape[0]+6,data.shape[1]+6])\n",
    "    zeros[3:-3,3:-3] = data\n",
    "    return zeros\n"
   ]
  },
  {
   "cell_type": "code",
   "execution_count": 52,
   "metadata": {},
   "outputs": [],
   "source": [
    "def enhance(data):\n",
    "    new_data = np.zeros(data.shape)\n",
    "    for i in range(1,len(data)-1):\n",
    "        for j in range(1,len(data)-1):\n",
    "            sub_data = data[i-1:i+2, j-1:j+2].astype(int).astype(str)\n",
    "\n",
    "            bin_str = \"\".join(list(sub_data[0]))+\"\".join(list(sub_data[1]))+\"\".join(list(sub_data[2]))\n",
    "            \n",
    "            new_val = str_in[int(bin_str,2)]\n",
    "            if new_val == \"#\":\n",
    "                new_data[i,j] = 1\n",
    "    \n",
    "    return new_data\n"
   ]
  },
  {
   "cell_type": "code",
   "execution_count": 54,
   "metadata": {},
   "outputs": [
    {
     "name": "stdout",
     "output_type": "stream",
     "text": [
      "5647.0\n"
     ]
    }
   ],
   "source": [
    "temp = np_data.copy()\n",
    "for i in range(2):\n",
    "    temp = padData(temp, i)\n",
    "    temp = enhance(temp)\n",
    "\n",
    "\n",
    "    if i%2 == 0:\n",
    "        temp[0,:] = 1\n",
    "        temp[-1,:] = 1\n",
    "        temp[:,0] = 1\n",
    "        temp[:,-1] = 1\n",
    "print(temp.sum())"
   ]
  },
  {
   "cell_type": "code",
   "execution_count": 49,
   "metadata": {},
   "outputs": [
    {
     "data": {
      "text/plain": [
       "array([[1., 1., 1., ..., 1., 1., 1.],\n",
       "       [1., 1., 1., ..., 1., 1., 1.],\n",
       "       [1., 1., 1., ..., 0., 1., 1.],\n",
       "       ...,\n",
       "       [1., 1., 1., ..., 1., 1., 1.],\n",
       "       [1., 1., 1., ..., 1., 1., 1.],\n",
       "       [1., 1., 1., ..., 1., 1., 1.]])"
      ]
     },
     "execution_count": 49,
     "metadata": {},
     "output_type": "execute_result"
    }
   ],
   "source": [
    "temp"
   ]
  },
  {
   "cell_type": "code",
   "execution_count": 44,
   "metadata": {},
   "outputs": [
    {
     "data": {
      "text/plain": [
       "array([[0., 0., 0., 0., 0., 0., 0., 0., 0., 0., 0., 0., 0., 0., 0.],\n",
       "       [0., 1., 1., 1., 1., 1., 1., 1., 1., 1., 1., 1., 1., 1., 1.],\n",
       "       [0., 1., 1., 1., 0., 1., 1., 0., 0., 1., 1., 1., 0., 0., 1.],\n",
       "       [0., 1., 0., 1., 1., 0., 0., 1., 1., 1., 0., 0., 0., 0., 0.],\n",
       "       [0., 1., 1., 1., 0., 0., 0., 0., 1., 1., 1., 0., 1., 1., 0.],\n",
       "       [0., 1., 0., 0., 1., 1., 1., 0., 0., 0., 1., 0., 1., 1., 0.],\n",
       "       [0., 1., 0., 1., 1., 0., 0., 1., 1., 1., 1., 0., 0., 0., 1.],\n",
       "       [0., 1., 1., 1., 0., 0., 0., 0., 0., 1., 1., 0., 1., 0., 0.],\n",
       "       [0., 1., 1., 1., 0., 1., 1., 0., 0., 1., 0., 1., 1., 1., 0.],\n",
       "       [0., 1., 0., 1., 1., 0., 1., 1., 0., 0., 0., 1., 1., 0., 1.],\n",
       "       [0., 1., 0., 1., 0., 0., 0., 1., 0., 0., 1., 1., 1., 1., 1.],\n",
       "       [0., 1., 1., 1., 0., 0., 0., 0., 0., 1., 0., 0., 0., 0., 0.],\n",
       "       [0., 1., 1., 1., 1., 0., 0., 0., 0., 1., 0., 0., 1., 0., 1.],\n",
       "       [0., 1., 1., 0., 0., 1., 1., 1., 1., 0., 1., 0., 1., 1., 0.],\n",
       "       [0., 1., 1., 1., 1., 1., 1., 1., 0., 0., 1., 1., 1., 0., 0.],\n",
       "       [0., 1., 1., 1., 1., 1., 0., 1., 1., 1., 1., 1., 0., 0., 0.],\n",
       "       [0., 1., 0., 1., 0., 0., 1., 0., 1., 1., 1., 0., 1., 0., 0.],\n",
       "       [0., 1., 1., 0., 0., 0., 1., 0., 0., 0., 1., 1., 1., 1., 1.],\n",
       "       [0., 1., 1., 1., 0., 1., 1., 1., 1., 1., 1., 0., 0., 0., 1.],\n",
       "       [0., 1., 1., 1., 0., 1., 1., 1., 0., 0., 0., 1., 1., 0., 0.]])"
      ]
     },
     "execution_count": 44,
     "metadata": {},
     "output_type": "execute_result"
    }
   ],
   "source": [
    "temp[0:20,0:15]"
   ]
  },
  {
   "cell_type": "code",
   "execution_count": 13,
   "metadata": {},
   "outputs": [
    {
     "name": "stdout",
     "output_type": "stream",
     "text": [
      "0 2\n",
      "0 2\n",
      "\n",
      "0 2\n",
      "1 3\n",
      "\n",
      "0 2\n",
      "2 4\n",
      "\n",
      "0 2\n",
      "3 5\n",
      "\n",
      "0 2\n",
      "4 6\n",
      "\n",
      "0 2\n",
      "5 7\n",
      "\n",
      "0 2\n",
      "6 8\n",
      "\n",
      "1 3\n",
      "0 2\n",
      "\n",
      "1 3\n",
      "1 3\n",
      "\n",
      "1 3\n",
      "2 4\n",
      "\n",
      "1 3\n",
      "3 5\n",
      "\n",
      "1 3\n",
      "4 6\n",
      "\n",
      "1 3\n",
      "5 7\n",
      "\n",
      "1 3\n",
      "6 8\n",
      "\n",
      "2 4\n",
      "0 2\n",
      "\n",
      "2 4\n",
      "1 3\n",
      "\n",
      "2 4\n",
      "2 4\n",
      "\n",
      "2 4\n",
      "3 5\n",
      "\n",
      "2 4\n",
      "4 6\n",
      "\n",
      "2 4\n",
      "5 7\n",
      "\n",
      "2 4\n",
      "6 8\n",
      "\n",
      "3 5\n",
      "0 2\n",
      "\n",
      "3 5\n",
      "1 3\n",
      "\n",
      "3 5\n",
      "2 4\n",
      "\n",
      "3 5\n",
      "3 5\n",
      "\n",
      "3 5\n",
      "4 6\n",
      "\n",
      "3 5\n",
      "5 7\n",
      "\n",
      "3 5\n",
      "6 8\n",
      "\n",
      "4 6\n",
      "0 2\n",
      "\n",
      "4 6\n",
      "1 3\n",
      "\n",
      "4 6\n",
      "2 4\n",
      "\n",
      "4 6\n",
      "3 5\n",
      "\n",
      "4 6\n",
      "4 6\n",
      "\n",
      "4 6\n",
      "5 7\n",
      "\n",
      "4 6\n",
      "6 8\n",
      "\n",
      "5 7\n",
      "0 2\n",
      "\n",
      "5 7\n",
      "1 3\n",
      "\n",
      "5 7\n",
      "2 4\n",
      "\n",
      "5 7\n",
      "3 5\n",
      "\n",
      "5 7\n",
      "4 6\n",
      "\n",
      "5 7\n",
      "5 7\n",
      "\n",
      "5 7\n",
      "6 8\n",
      "\n",
      "6 8\n",
      "0 2\n",
      "\n",
      "6 8\n",
      "1 3\n",
      "\n",
      "6 8\n",
      "2 4\n",
      "\n",
      "6 8\n",
      "3 5\n",
      "\n",
      "6 8\n",
      "4 6\n",
      "\n",
      "6 8\n",
      "5 7\n",
      "\n",
      "6 8\n",
      "6 8\n",
      "\n"
     ]
    }
   ],
   "source": [
    "for i in range(1,len(data_pad)-1):\n",
    "    for j in range(1,len(data_pad)-1):\n",
    "    \n",
    "        print(i-1,i+1)\n",
    "        print(j-1,j+1)\n",
    "        print()"
   ]
  },
  {
   "cell_type": "code",
   "execution_count": 86,
   "metadata": {},
   "outputs": [
    {
     "data": {
      "text/plain": [
       "array([[0., 0.],\n",
       "       [0., 0.],\n",
       "       [0., 0.]])"
      ]
     },
     "execution_count": 86,
     "metadata": {},
     "output_type": "execute_result"
    }
   ],
   "source": [
    "data_pad[0:2+1,7:9+1]"
   ]
  },
  {
   "cell_type": "code",
   "execution_count": 83,
   "metadata": {},
   "outputs": [
    {
     "data": {
      "text/plain": [
       "(9, 9)"
      ]
     },
     "execution_count": 83,
     "metadata": {},
     "output_type": "execute_result"
    }
   ],
   "source": [
    "data_pad.shape"
   ]
  },
  {
   "cell_type": "code",
   "execution_count": 47,
   "metadata": {},
   "outputs": [
    {
     "ename": "AttributeError",
     "evalue": "'list' object has no attribute 'astype'",
     "output_type": "error",
     "traceback": [
      "\u001b[1;31m---------------------------------------------------------------------------\u001b[0m",
      "\u001b[1;31mAttributeError\u001b[0m                            Traceback (most recent call last)",
      "\u001b[1;32m<ipython-input-47-dbf1719ac178>\u001b[0m in \u001b[0;36m<module>\u001b[1;34m\u001b[0m\n\u001b[1;32m----> 1\u001b[1;33m \u001b[0mlist\u001b[0m\u001b[1;33m(\u001b[0m\u001b[0mnp_data\u001b[0m\u001b[1;33m[\u001b[0m\u001b[1;36m0\u001b[0m\u001b[1;33m]\u001b[0m\u001b[1;33m)\u001b[0m\u001b[1;33m.\u001b[0m\u001b[0mastype\u001b[0m\u001b[1;33m(\u001b[0m\u001b[0mstr\u001b[0m\u001b[1;33m)\u001b[0m\u001b[1;33m\u001b[0m\u001b[1;33m\u001b[0m\u001b[0m\n\u001b[0m",
      "\u001b[1;31mAttributeError\u001b[0m: 'list' object has no attribute 'astype'"
     ]
    }
   ],
   "source": [
    "list(np_data[0]).astype(str)"
   ]
  },
  {
   "cell_type": "code",
   "execution_count": 72,
   "metadata": {},
   "outputs": [
    {
     "data": {
      "text/plain": [
       "array([[1, 0, 0, 1, 0],\n",
       "       [1, 0, 0, 0, 0],\n",
       "       [1, 1, 0, 0, 1],\n",
       "       [0, 0, 1, 0, 0],\n",
       "       [0, 0, 1, 1, 1]])"
      ]
     },
     "execution_count": 72,
     "metadata": {},
     "output_type": "execute_result"
    }
   ],
   "source": [
    "np_data"
   ]
  },
  {
   "cell_type": "code",
   "execution_count": null,
   "metadata": {},
   "outputs": [],
   "source": []
  }
 ],
 "metadata": {
  "kernelspec": {
   "display_name": "Python 3",
   "language": "python",
   "name": "python3"
  },
  "language_info": {
   "codemirror_mode": {
    "name": "ipython",
    "version": 3
   },
   "file_extension": ".py",
   "mimetype": "text/x-python",
   "name": "python",
   "nbconvert_exporter": "python",
   "pygments_lexer": "ipython3",
   "version": "3.8.5"
  }
 },
 "nbformat": 4,
 "nbformat_minor": 4
}
