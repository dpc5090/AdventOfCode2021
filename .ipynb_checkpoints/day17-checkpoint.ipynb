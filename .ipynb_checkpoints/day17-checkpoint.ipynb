{
 "cells": [
  {
   "cell_type": "code",
   "execution_count": 1,
   "metadata": {},
   "outputs": [],
   "source": [
    "from collections import Counter, deque"
   ]
  },
  {
   "cell_type": "code",
   "execution_count": 2,
   "metadata": {},
   "outputs": [],
   "source": [
    "import numpy as np\n",
    "import pandas as pd\n",
    "import heapq"
   ]
  },
  {
   "cell_type": "code",
   "execution_count": 3,
   "metadata": {},
   "outputs": [],
   "source": [
    "f = open(\"day17.txt\",'r')\n",
    "data = f.read().split(\"\\n\")"
   ]
  },
  {
   "cell_type": "code",
   "execution_count": 4,
   "metadata": {},
   "outputs": [
    {
     "data": {
      "text/plain": [
       "['target area: x=265..287, y=-103..-58']"
      ]
     },
     "execution_count": 4,
     "metadata": {},
     "output_type": "execute_result"
    }
   ],
   "source": [
    "data\n"
   ]
  },
  {
   "cell_type": "code",
   "execution_count": 5,
   "metadata": {},
   "outputs": [],
   "source": [
    "x_min, x_max = 265, 287\n",
    "y_min, y_max = -103, -58"
   ]
  },
  {
   "cell_type": "code",
   "execution_count": 6,
   "metadata": {},
   "outputs": [],
   "source": [
    "\n",
    "valid = []\n",
    "for x_init in range(1, x_max*2):\n",
    "    for y_init in range(-104, 2000):\n",
    "#         print(\"start\",x_init,y_init)\n",
    "        x,y = x_init,y_init\n",
    "        pos_x, pos_y = 0,0\n",
    "        step = 0\n",
    "        while True:\n",
    "#             print(pos_x,pos_y)\n",
    "            step+=1\n",
    "            pos_x = pos_x+x\n",
    "            x = max(0,x-1)\n",
    "            pos_y = pos_y+y\n",
    "            y = y-1\n",
    "            if x_min<=pos_x<=x_max:\n",
    "                if y_min<=pos_y<=y_max:\n",
    "                    valid.append([x_init,y_init])\n",
    "                    break\n",
    "            if pos_x>x_max:\n",
    "                break\n",
    "            if pos_y<y_min:\n",
    "                break\n",
    "            if x == 0 and not  x_min<=pos_x<=x_max:\n",
    "                break\n"
   ]
  },
  {
   "cell_type": "code",
   "execution_count": 7,
   "metadata": {},
   "outputs": [
    {
     "data": {
      "text/plain": [
       "(5253, 1770)"
      ]
     },
     "execution_count": 7,
     "metadata": {},
     "output_type": "execute_result"
    }
   ],
   "source": [
    "heights = []\n",
    "for row in valid:\n",
    "    pos_x,pos_y = 0,0\n",
    "    x,y = row\n",
    "    while y>0:\n",
    "        pos_x = pos_x+x\n",
    "        x = max(0,x-1)\n",
    "        pos_y = pos_y+y\n",
    "        y = y-1\n",
    "    heights.append( pos_y)\n",
    "max(heights),len(valid)"
   ]
  },
  {
   "cell_type": "code",
   "execution_count": null,
   "metadata": {},
   "outputs": [],
   "source": []
  }
 ],
 "metadata": {
  "kernelspec": {
   "display_name": "Python 3",
   "language": "python",
   "name": "python3"
  },
  "language_info": {
   "codemirror_mode": {
    "name": "ipython",
    "version": 3
   },
   "file_extension": ".py",
   "mimetype": "text/x-python",
   "name": "python",
   "nbconvert_exporter": "python",
   "pygments_lexer": "ipython3",
   "version": "3.8.5"
  }
 },
 "nbformat": 4,
 "nbformat_minor": 4
}
