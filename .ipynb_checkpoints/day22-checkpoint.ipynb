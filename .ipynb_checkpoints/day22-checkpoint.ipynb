{
 "cells": [
  {
   "cell_type": "code",
   "execution_count": 1,
   "metadata": {},
   "outputs": [],
   "source": [
    "from collections import Counter, deque"
   ]
  },
  {
   "cell_type": "code",
   "execution_count": 2,
   "metadata": {},
   "outputs": [],
   "source": [
    "import numpy as np\n",
    "import pandas as pd\n",
    "import heapq"
   ]
  },
  {
   "cell_type": "code",
   "execution_count": 3,
   "metadata": {},
   "outputs": [],
   "source": [
    "f = open(\"day21.txt\",'r')\n",
    "data = f.read().split(\"\\n\")"
   ]
  },
  {
   "cell_type": "code",
   "execution_count": 4,
   "metadata": {},
   "outputs": [
    {
     "data": {
      "text/plain": [
       "['Player 1 starting position: 7', 'Player 2 starting position: 3']"
      ]
     },
     "execution_count": 4,
     "metadata": {},
     "output_type": "execute_result"
    }
   ],
   "source": [
    "data"
   ]
  },
  {
   "cell_type": "code",
   "execution_count": 5,
   "metadata": {},
   "outputs": [],
   "source": [
    "p1_pos = 7\n",
    "p2_pos = 3\n",
    "p1_score = 0\n",
    "p2_score = 0\n"
   ]
  },
  {
   "cell_type": "code",
   "execution_count": 6,
   "metadata": {},
   "outputs": [],
   "source": [
    "die_cur_val = 1\n",
    "roll_count = 0\n",
    "def roll():\n",
    "    global die_cur_val,roll_count\n",
    "    ret = 0\n",
    "    for _ in range(3):\n",
    "        \n",
    "        ret+=die_cur_val\n",
    "        die_cur_val+=1\n",
    "        if die_cur_val>100:\n",
    "            die_cur_val =1\n",
    "    roll_count+=3\n",
    "    return ret\n"
   ]
  },
  {
   "cell_type": "code",
   "execution_count": 7,
   "metadata": {},
   "outputs": [],
   "source": [
    "def move(cur_pos, num):\n",
    "    next_pos = (cur_pos-1+num)%10+1\n",
    "    return next_pos\n"
   ]
  },
  {
   "cell_type": "code",
   "execution_count": 8,
   "metadata": {},
   "outputs": [
    {
     "name": "stdout",
     "output_type": "stream",
     "text": [
      "1008 641 861\n",
      "Wall time: 998 µs\n"
     ]
    },
    {
     "data": {
      "text/plain": [
       "551901"
      ]
     },
     "execution_count": 8,
     "metadata": {},
     "output_type": "execute_result"
    }
   ],
   "source": [
    "%%time \n",
    "while True:\n",
    "    p1_pos = move(p1_pos, roll())\n",
    "    p1_score+=p1_pos\n",
    "    if p1_score>=1000:\n",
    "        break\n",
    "    p2_pos = move(p2_pos, roll())\n",
    "    p2_score+=p2_pos\n",
    "    if p2_score>=1000:\n",
    "        break\n",
    "print(p1_score,p2_score, roll_count)\n",
    "roll_count*min(p1_score,p2_score)"
   ]
  },
  {
   "cell_type": "code",
   "execution_count": 9,
   "metadata": {},
   "outputs": [],
   "source": [
    "rolls = []\n",
    "for i in range(1,4):\n",
    "    for j in range(1,4):\n",
    "        for k in range(1,4):\n",
    "            rolls.append(i+j+k)\n",
    "roll_map = Counter(rolls)"
   ]
  },
  {
   "cell_type": "code",
   "execution_count": 10,
   "metadata": {},
   "outputs": [
    {
     "name": "stdout",
     "output_type": "stream",
     "text": [
      "Wall time: 1min 2s\n"
     ]
    },
    {
     "data": {
      "text/plain": [
       "272847859601291"
      ]
     },
     "execution_count": 10,
     "metadata": {},
     "output_type": "execute_result"
    }
   ],
   "source": [
    "%%time\n",
    "p1_pos = 7\n",
    "p2_pos = 3\n",
    "p1_score = 0\n",
    "p2_score = 0\n",
    "p1_turn = True\n",
    "instances = 1\n",
    "game_state = [p1_pos, p1_score, p2_pos, p2_score,p1_turn, instances]\n",
    "states = deque([game_state])\n",
    "\n",
    "p1_wins = 0\n",
    "p2_wins = 0\n",
    "while len(states)>0:\n",
    "    p1_pos, p1_score, p2_pos, p2_score,p1_turn, instances = states.pop()\n",
    "    for die_value, num_instances in roll_map.items():\n",
    "        if p1_turn:\n",
    "            next_p1_pos = move(p1_pos, die_value)\n",
    "            next_p1_score = p1_score+ next_p1_pos\n",
    "            if next_p1_score>=21:\n",
    "                p1_wins+=instances*num_instances\n",
    "                continue\n",
    "            states.append([next_p1_pos, next_p1_score, p2_pos, p2_score, False, instances*num_instances])\n",
    "        else:\n",
    "            next_p2_pos = move(p2_pos, die_value)\n",
    "            next_p2_score = p2_score+ next_p2_pos\n",
    "            if next_p2_score>=21:\n",
    "                p2_wins+=instances*num_instances\n",
    "                continue\n",
    "            states.append([p1_pos, p1_score, next_p2_pos, next_p2_score, True, instances*num_instances])\n",
    "max(p1_wins,p2_wins)       "
   ]
  }
 ],
 "metadata": {
  "kernelspec": {
   "display_name": "Python 3",
   "language": "python",
   "name": "python3"
  },
  "language_info": {
   "codemirror_mode": {
    "name": "ipython",
    "version": 3
   },
   "file_extension": ".py",
   "mimetype": "text/x-python",
   "name": "python",
   "nbconvert_exporter": "python",
   "pygments_lexer": "ipython3",
   "version": "3.8.5"
  }
 },
 "nbformat": 4,
 "nbformat_minor": 4
}
