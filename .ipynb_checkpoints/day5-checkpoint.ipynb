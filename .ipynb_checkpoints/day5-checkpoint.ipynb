{
 "cells": [
  {
   "cell_type": "code",
   "execution_count": 1,
   "metadata": {},
   "outputs": [],
   "source": [
    "from collections import Counter, deque"
   ]
  },
  {
   "cell_type": "code",
   "execution_count": 14,
   "metadata": {},
   "outputs": [],
   "source": [
    "import numpy as np\n",
    "import pandas as pd\n",
    "import heapq\n"
   ]
  },
  {
   "cell_type": "code",
   "execution_count": 15,
   "metadata": {},
   "outputs": [],
   "source": [
    "f = open(\"day4.txt\",'r')\n",
    "data = f.read()\n",
    "data = data.split(\"\\n\\n\")"
   ]
  },
  {
   "cell_type": "code",
   "execution_count": null,
   "metadata": {},
   "outputs": [],
   "source": []
  },
  {
   "cell_type": "code",
   "execution_count": 30,
   "metadata": {},
   "outputs": [],
   "source": [
    "data = [item.strip() for item in data]"
   ]
  },
  {
   "cell_type": "code",
   "execution_count": 31,
   "metadata": {},
   "outputs": [],
   "source": [
    "numbers  = data[0]\n",
    "cards = [np.array([int(x) for x in item.split()]).reshape(5,5) for item in data[1:]]\n"
   ]
  },
  {
   "cell_type": "code",
   "execution_count": 32,
   "metadata": {},
   "outputs": [],
   "source": [
    "numbers = [int(x) for x in numbers.split(\",\")]"
   ]
  },
  {
   "cell_type": "code",
   "execution_count": 7,
   "metadata": {},
   "outputs": [
    {
     "name": "stdout",
     "output_type": "stream",
     "text": [
      "42\n",
      "44\n",
      "71\n",
      "26\n",
      "70\n",
      "92\n",
      "77\n",
      "45\n",
      "6\n",
      "18\n",
      "79\n",
      "54\n",
      "31\n",
      "34\n",
      "64\n",
      "32\n",
      "16\n",
      "55\n",
      "81\n",
      "11\n",
      "90\n",
      "10\n",
      "21\n",
      "34 [[-1 -1 -1 -1 -1]\n",
      " [30 56  3 25 -1]\n",
      " [80 96 20 65 -1]\n",
      " [41 67 22 97 -1]\n",
      " [93 68 17 13  1]]\n"
     ]
    },
    {
     "data": {
      "text/plain": [
       "array([[-1, -1, -1, -1, -1],\n",
       "       [30, 56,  3, 25, -1],\n",
       "       [80, 96, 20, 65, -1],\n",
       "       [41, 67, 22, 97, -1],\n",
       "       [93, 68, 17, 13,  1]])"
      ]
     },
     "execution_count": 7,
     "metadata": {},
     "output_type": "execute_result"
    }
   ],
   "source": [
    "card_found = False\n",
    "final_card = None\n",
    "for number in numbers:\n",
    "    print(number)\n",
    "    for j,card in enumerate(cards):\n",
    "        card[card == number] = -1\n",
    "        for i in range(4):\n",
    "            if card[:,i].sum() == -5:\n",
    "                print(j,card)\n",
    "                card_found = True\n",
    "                final_card = card\n",
    "                break\n",
    "            if card[i,:].sum() == -5:\n",
    "                print(j,card)\n",
    "                card_found = True\n",
    "                final_card = card\n",
    "                break\n",
    "        if card_found:\n",
    "            break\n",
    "    if card_found:\n",
    "        break\n",
    "final_card"
   ]
  },
  {
   "cell_type": "code",
   "execution_count": 8,
   "metadata": {},
   "outputs": [
    {
     "data": {
      "text/plain": [
       "16674"
      ]
     },
     "execution_count": 8,
     "metadata": {},
     "output_type": "execute_result"
    }
   ],
   "source": [
    "card[card!=-1].sum()*number"
   ]
  },
  {
   "cell_type": "code",
   "execution_count": 33,
   "metadata": {},
   "outputs": [
    {
     "name": "stdout",
     "output_type": "stream",
     "text": [
      "0 42\n",
      "0 44\n",
      "0 71\n",
      "0 26\n",
      "0 70\n",
      "0 92\n",
      "0 77\n",
      "0 45\n",
      "0 6\n",
      "0 18\n",
      "0 79\n",
      "0 54\n",
      "0 31\n",
      "0 34\n",
      "0 64\n",
      "0 32\n",
      "0 16\n",
      "0 55\n",
      "0 81\n",
      "0 11\n",
      "0 90\n",
      "0 10\n",
      "0 21\n",
      "1 87\n",
      "1 0\n",
      "1 84\n",
      "1 8\n",
      "2 23\n",
      "2 1\n",
      "2 12\n",
      "2 60\n",
      "4 20\n",
      "5 57\n",
      "5 68\n",
      "7 61\n",
      "8 82\n",
      "8 49\n",
      "8 59\n",
      "8 22\n",
      "11 2\n",
      "11 63\n",
      "12 33\n",
      "12 50\n",
      "12 39\n",
      "13 28\n",
      "13 30\n",
      "13 88\n",
      "13 41\n",
      "17 69\n",
      "19 72\n",
      "20 98\n",
      "22 73\n",
      "24 7\n",
      "26 65\n",
      "29 53\n",
      "32 35\n",
      "33 96\n",
      "35 67\n",
      "36 36\n",
      "42 4\n",
      "44 51\n",
      "45 75\n",
      "47 24\n",
      "49 86\n",
      "51 97\n",
      "54 85\n",
      "55 66\n",
      "58 29\n",
      "62 74\n",
      "67 40\n",
      "71 93\n",
      "72 58\n",
      "73 9\n",
      "73 62\n",
      "77 95\n",
      "81 91\n",
      "82 80\n",
      "86 99\n",
      "87 14\n",
      "89 19\n",
      "92 43\n",
      "95 37\n",
      "96 27\n",
      "97 56\n",
      "98 94\n",
      "99 25\n"
     ]
    },
    {
     "ename": "ValueError",
     "evalue": "The truth value of an array with more than one element is ambiguous. Use a.any() or a.all()",
     "output_type": "error",
     "traceback": [
      "\u001b[1;31m---------------------------------------------------------------------------\u001b[0m",
      "\u001b[1;31mValueError\u001b[0m                                Traceback (most recent call last)",
      "\u001b[1;32m~\\AppData\\Local\\Temp/ipykernel_19784/231597432.py\u001b[0m in \u001b[0;36m<module>\u001b[1;34m\u001b[0m\n\u001b[0;32m     23\u001b[0m         \u001b[1;32mif\u001b[0m \u001b[0mlen\u001b[0m\u001b[1;33m(\u001b[0m\u001b[0mcards_found\u001b[0m\u001b[1;33m)\u001b[0m \u001b[1;33m==\u001b[0m \u001b[0mlen\u001b[0m\u001b[1;33m(\u001b[0m\u001b[0mcards\u001b[0m\u001b[1;33m)\u001b[0m\u001b[1;33m:\u001b[0m\u001b[1;33m\u001b[0m\u001b[1;33m\u001b[0m\u001b[0m\n\u001b[0;32m     24\u001b[0m             \u001b[1;32mbreak\u001b[0m\u001b[1;33m\u001b[0m\u001b[1;33m\u001b[0m\u001b[0m\n\u001b[1;32m---> 25\u001b[1;33m     \u001b[1;32mif\u001b[0m \u001b[0mfinal_card\u001b[0m\u001b[1;33m:\u001b[0m\u001b[1;33m\u001b[0m\u001b[1;33m\u001b[0m\u001b[0m\n\u001b[0m\u001b[0;32m     26\u001b[0m         \u001b[1;32mbreak\u001b[0m\u001b[1;33m\u001b[0m\u001b[1;33m\u001b[0m\u001b[0m\n\u001b[0;32m     27\u001b[0m \u001b[0mfinal_card\u001b[0m\u001b[1;33m\u001b[0m\u001b[1;33m\u001b[0m\u001b[0m\n",
      "\u001b[1;31mValueError\u001b[0m: The truth value of an array with more than one element is ambiguous. Use a.any() or a.all()"
     ]
    }
   ],
   "source": [
    "card_found = False\n",
    "final_card = None\n",
    "cards_found = []\n",
    "for number in numbers:\n",
    "    print(len(cards_found), number)\n",
    "    for j,card in enumerate(cards):\n",
    "        if j in cards_found:\n",
    "            continue\n",
    "        card[card == number] = -1\n",
    "        for i in range(4):\n",
    "            if card[:,i].sum() == -5:\n",
    "                cards_found.append(j)\n",
    "                if len(cards_found) == len(cards):\n",
    "                    final_card = card\n",
    "                break\n",
    "                \n",
    "            if card[i,:].sum() == -5:\n",
    "                cards_found.append(j)\n",
    "                if len(cards_found) == len(cards):\n",
    "                    final_card = card\n",
    "                break\n",
    "           \n",
    "        if len(cards_found) == len(cards):\n",
    "            break\n",
    "    if final_card:\n",
    "        break\n",
    "final_card"
   ]
  },
  {
   "cell_type": "code",
   "execution_count": 34,
   "metadata": {
    "scrolled": false
   },
   "outputs": [
    {
     "data": {
      "text/plain": [
       "array([[-1, -1, -1, 89, -1],\n",
       "       [-1, -1, 78, 48, -1],\n",
       "       [-1, 38, 13, -1, -1],\n",
       "       [-1, -1, -1, -1, 17],\n",
       "       [-1, -1, -1, -1, -1]])"
      ]
     },
     "execution_count": 34,
     "metadata": {},
     "output_type": "execute_result"
    }
   ],
   "source": [
    "final_card"
   ]
  },
  {
   "cell_type": "code",
   "execution_count": 35,
   "metadata": {},
   "outputs": [
    {
     "data": {
      "text/plain": [
       "7075"
      ]
     },
     "execution_count": 35,
     "metadata": {},
     "output_type": "execute_result"
    }
   ],
   "source": [
    "final_card[final_card!=-1].sum()*number"
   ]
  },
  {
   "cell_type": "code",
   "execution_count": null,
   "metadata": {},
   "outputs": [],
   "source": []
  }
 ],
 "metadata": {
  "kernelspec": {
   "display_name": "Python 3 (ipykernel)",
   "language": "python",
   "name": "python3"
  },
  "language_info": {
   "codemirror_mode": {
    "name": "ipython",
    "version": 3
   },
   "file_extension": ".py",
   "mimetype": "text/x-python",
   "name": "python",
   "nbconvert_exporter": "python",
   "pygments_lexer": "ipython3",
   "version": "3.10.1"
  }
 },
 "nbformat": 4,
 "nbformat_minor": 4
}
