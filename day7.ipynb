{
 "cells": [
  {
   "cell_type": "code",
   "execution_count": 1,
   "metadata": {},
   "outputs": [],
   "source": [
    "from collections import Counter, deque"
   ]
  },
  {
   "cell_type": "code",
   "execution_count": 2,
   "metadata": {},
   "outputs": [],
   "source": [
    "import numpy as np\n",
    "import pandas as pd\n",
    "import heapq\n"
   ]
  },
  {
   "cell_type": "code",
   "execution_count": 3,
   "metadata": {},
   "outputs": [],
   "source": [
    "f = open(\"day7.txt\",'r')\n",
    "data = f.read()\n",
    "data = data.split(\",\")"
   ]
  },
  {
   "cell_type": "code",
   "execution_count": 6,
   "metadata": {
    "scrolled": true
   },
   "outputs": [],
   "source": [
    "data = [int(d) for d in data]\n",
    "data = np.array(data)"
   ]
  },
  {
   "cell_type": "code",
   "execution_count": 10,
   "metadata": {},
   "outputs": [
    {
     "data": {
      "text/plain": [
       "342730"
      ]
     },
     "execution_count": 10,
     "metadata": {},
     "output_type": "execute_result"
    }
   ],
   "source": [
    "thing = np.inf\n",
    "for i in range(min(data), max(data)):\n",
    "    thing = min(thing,abs(data-i).sum())\n",
    "thing"
   ]
  },
  {
   "cell_type": "code",
   "execution_count": 16,
   "metadata": {},
   "outputs": [],
   "source": [
    "def sumOfDigits(x) :\n",
    "    sum = 0\n",
    "    for i in range(x+1):\n",
    "        sum+=i\n",
    "    return sum\n",
    " "
   ]
  },
  {
   "cell_type": "code",
   "execution_count": 19,
   "metadata": {},
   "outputs": [
    {
     "data": {
      "text/plain": [
       "66"
      ]
     },
     "execution_count": 19,
     "metadata": {},
     "output_type": "execute_result"
    }
   ],
   "source": [
    "sumOfDigits(11)"
   ]
  },
  {
   "cell_type": "code",
   "execution_count": 20,
   "metadata": {},
   "outputs": [
    {
     "data": {
      "text/plain": [
       "1179846685"
      ]
     },
     "execution_count": 20,
     "metadata": {},
     "output_type": "execute_result"
    }
   ],
   "source": [
    "thing = np.inf\n",
    "for i in range(min(data), max(data)):\n",
    "    diff = abs(data-i)\n",
    "    c = Counter(diff)\n",
    "    total = 0\n",
    "    for key in c:\n",
    "        total+=c[key]*sumOfDigits(key)\n",
    "    thing = min(thing,total)\n",
    "total\n"
   ]
  },
  {
   "cell_type": "code",
   "execution_count": 14,
   "metadata": {},
   "outputs": [
    {
     "data": {
      "text/plain": [
       "476584"
      ]
     },
     "execution_count": 14,
     "metadata": {},
     "output_type": "execute_result"
    }
   ],
   "source": [
    "diff"
   ]
  },
  {
   "cell_type": "code",
   "execution_count": 17,
   "metadata": {
    "scrolled": true
   },
   "outputs": [
    {
     "data": {
      "text/plain": [
       "383160"
      ]
     },
     "execution_count": 17,
     "metadata": {},
     "output_type": "execute_result"
    }
   ],
   "source": [
    "d= count.copy()\n",
    "new_d = {}\n",
    "for i in range(80):\n",
    "    new_d = {}\n",
    "    for key in d:\n",
    "        if key-1 <0:\n",
    "            new_d[8]  = d[0]\n",
    "            val = new_d.get(6,0)\n",
    "            new_d[6] = val+d[0]\n",
    "        else:\n",
    "            val = new_d.get(key-1,0)\n",
    "            new_d[key-1] = val+d[key]\n",
    "    d = new_d.copy()\n",
    "sum(d.values())      "
   ]
  },
  {
   "cell_type": "code",
   "execution_count": 18,
   "metadata": {},
   "outputs": [
    {
     "data": {
      "text/plain": [
       "1721148811504"
      ]
     },
     "execution_count": 18,
     "metadata": {},
     "output_type": "execute_result"
    }
   ],
   "source": [
    "d= count.copy()\n",
    "new_d = {}\n",
    "for i in range(256):\n",
    "    new_d = {}\n",
    "    for key in d:\n",
    "        if key-1 <0:\n",
    "            new_d[8]  = d[0]\n",
    "            val = new_d.get(6,0)\n",
    "            new_d[6] = val+d[0]\n",
    "        else:\n",
    "            val = new_d.get(key-1,0)\n",
    "            new_d[key-1] = val+d[key]\n",
    "    d = new_d.copy()\n",
    "sum(d.values())     "
   ]
  },
  {
   "cell_type": "code",
   "execution_count": 19,
   "metadata": {},
   "outputs": [
    {
     "data": {
      "text/plain": [
       "1721148811504"
      ]
     },
     "execution_count": 19,
     "metadata": {},
     "output_type": "execute_result"
    }
   ],
   "source": [
    "sum(d.values())"
   ]
  }
 ],
 "metadata": {
  "kernelspec": {
   "display_name": "Python 3 (ipykernel)",
   "language": "python",
   "name": "python3"
  },
  "language_info": {
   "codemirror_mode": {
    "name": "ipython",
    "version": 3
   },
   "file_extension": ".py",
   "mimetype": "text/x-python",
   "name": "python",
   "nbconvert_exporter": "python",
   "pygments_lexer": "ipython3",
   "version": "3.10.1"
  }
 },
 "nbformat": 4,
 "nbformat_minor": 4
}
