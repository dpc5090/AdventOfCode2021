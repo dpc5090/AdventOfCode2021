{
 "cells": [
  {
   "cell_type": "code",
   "execution_count": 1,
   "metadata": {},
   "outputs": [],
   "source": [
    "from collections import Counter, deque"
   ]
  },
  {
   "cell_type": "code",
   "execution_count": 2,
   "metadata": {},
   "outputs": [],
   "source": [
    "import numpy as np\n",
    "import pandas as pd\n",
    "import heapq\n"
   ]
  },
  {
   "cell_type": "code",
   "execution_count": 3,
   "metadata": {},
   "outputs": [],
   "source": [
    "f = open(\"day5.txt\",'r')\n",
    "data = f.read()\n",
    "data = data.split(\"\\n\")"
   ]
  },
  {
   "cell_type": "code",
   "execution_count": 7,
   "metadata": {},
   "outputs": [],
   "source": [
    "data = [[y.split(\",\") for y in x.split(\" -> \")] for x in data]"
   ]
  },
  {
   "cell_type": "code",
   "execution_count": 21,
   "metadata": {},
   "outputs": [
    {
     "data": {
      "text/plain": [
       "6856"
      ]
     },
     "execution_count": 21,
     "metadata": {},
     "output_type": "execute_result"
    }
   ],
   "source": [
    "vents = {}\n",
    "for row in data:\n",
    "    first, second = row\n",
    "    x1,y1 = int(first[0]), int(first[1])\n",
    "    x2,y2 = int(second[0]), int(second[1])\n",
    "    if x1 == x2:\n",
    "        x = x1\n",
    "        for y in range(min(y1,y2), max(y1,y2)+1):\n",
    "            \n",
    "            cur_val = vents.get(f\"{x}_{y}\",0)\n",
    "            vents[f\"{x}_{y}\"] = cur_val+1\n",
    "    elif y1==y2:\n",
    "        y = y1\n",
    "        for x in range(min(x1,x2), max(x1,x2)+1):\n",
    "            cur_val = vents.get(f\"{x}_{y}\",0)\n",
    "            vents[f\"{x}_{y}\"] = cur_val+1\n",
    "            \n",
    "count = 0\n",
    "for key in vents:\n",
    "    if vents[key]>1:\n",
    "        count+=1\n",
    "count"
   ]
  },
  {
   "cell_type": "code",
   "execution_count": 22,
   "metadata": {},
   "outputs": [
    {
     "data": {
      "text/plain": [
       "20666"
      ]
     },
     "execution_count": 22,
     "metadata": {},
     "output_type": "execute_result"
    }
   ],
   "source": [
    "vents = {}\n",
    "for row in data:\n",
    "    first, second = row\n",
    "    x1,y1 = int(first[0]), int(first[1])\n",
    "    x2,y2 = int(second[0]), int(second[1])\n",
    "    if x1 == x2:\n",
    "        x = x1\n",
    "        for y in range(min(y1,y2), max(y1,y2)+1):\n",
    "            \n",
    "            cur_val = vents.get(f\"{x}_{y}\",0)\n",
    "            vents[f\"{x}_{y}\"] = cur_val+1\n",
    "    elif y1==y2:\n",
    "        y = y1\n",
    "        for x in range(min(x1,x2), max(x1,x2)+1):\n",
    "            cur_val = vents.get(f\"{x}_{y}\",0)\n",
    "            vents[f\"{x}_{y}\"] = cur_val+1\n",
    "    else:\n",
    "        if x1<x2:\n",
    "            if y1<y2:\n",
    "                up = 1\n",
    "                left = 1\n",
    "            else:\n",
    "                up = -1\n",
    "                left = 1\n",
    "        else:\n",
    "            if y1<y2:\n",
    "                up = 1\n",
    "                left = -1\n",
    "            else:\n",
    "                up = -1\n",
    "                left = -1\n",
    "       \n",
    "        for i in range(abs(x1-x2)+1):\n",
    "            x = x1+i*left\n",
    "            y = y1 +i*up\n",
    "            cur_val = vents.get(f\"{x}_{y}\",0)\n",
    "            vents[f\"{x}_{y}\"] = cur_val+1\n",
    "\n",
    "            \n",
    "count = 0\n",
    "for key in vents:\n",
    "    if vents[key]>1:\n",
    "        count+=1\n",
    "count"
   ]
  }
 ],
 "metadata": {
  "kernelspec": {
   "display_name": "Python 3 (ipykernel)",
   "language": "python",
   "name": "python3"
  },
  "language_info": {
   "codemirror_mode": {
    "name": "ipython",
    "version": 3
   },
   "file_extension": ".py",
   "mimetype": "text/x-python",
   "name": "python",
   "nbconvert_exporter": "python",
   "pygments_lexer": "ipython3",
   "version": "3.10.1"
  }
 },
 "nbformat": 4,
 "nbformat_minor": 4
}
