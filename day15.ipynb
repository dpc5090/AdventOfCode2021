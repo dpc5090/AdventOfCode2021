{
 "cells": [
  {
   "cell_type": "code",
   "execution_count": 2,
   "metadata": {},
   "outputs": [],
   "source": [
    "from collections import Counter, deque"
   ]
  },
  {
   "cell_type": "code",
   "execution_count": 3,
   "metadata": {},
   "outputs": [],
   "source": [
    "import numpy as np\n",
    "import pandas as pd\n",
    "import heapq\n"
   ]
  },
  {
   "cell_type": "code",
   "execution_count": 122,
   "metadata": {},
   "outputs": [],
   "source": [
    "f = open(\"day15.txt\",'r')\n",
    "\n",
    "\n",
    "data = f.read().split(\"\\n\")\n",
    "\n"
   ]
  },
  {
   "cell_type": "code",
   "execution_count": 123,
   "metadata": {},
   "outputs": [],
   "source": [
    "data = np.array([[int(c) for c in row]for row in data])"
   ]
  },
  {
   "cell_type": "code",
   "execution_count": 124,
   "metadata": {},
   "outputs": [
    {
     "data": {
      "text/plain": [
       "(100, 100)"
      ]
     },
     "execution_count": 124,
     "metadata": {},
     "output_type": "execute_result"
    }
   ],
   "source": [
    "data.shape"
   ]
  },
  {
   "cell_type": "code",
   "execution_count": 125,
   "metadata": {},
   "outputs": [
    {
     "data": {
      "text/plain": [
       "[(0, 2), (1, 1), (0, 0)]"
      ]
     },
     "execution_count": 125,
     "metadata": {},
     "output_type": "execute_result"
    }
   ],
   "source": [
    "def getNextPositions(cur_pos, data):\n",
    "    x,y = cur_pos\n",
    "#     print(x,y)\n",
    "    next_pos = []\n",
    "    for thing in [[0,1],[1,0],[-1,0],[0,-1]]:\n",
    "        new_x = x+thing[0]\n",
    "        new_y = y+thing[1]\n",
    "        if 0<=new_x<len(data):\n",
    "            if 0<=new_y<len(data):\n",
    "                next_pos.append((new_x, new_y))\n",
    "#     print(next_pos)\n",
    "    return next_pos\n",
    "positions = getNextPositions((0,1),data)\n",
    "positions"
   ]
  },
  {
   "cell_type": "code",
   "execution_count": 126,
   "metadata": {},
   "outputs": [],
   "source": [
    "costs = np.ones(data.shape)*np.inf\n"
   ]
  },
  {
   "cell_type": "code",
   "execution_count": 127,
   "metadata": {},
   "outputs": [],
   "source": [
    "cur_pos = (0,0)\n",
    "score= 0\n",
    "to_search = deque([[cur_pos, score]])"
   ]
  },
  {
   "cell_type": "code",
   "execution_count": 128,
   "metadata": {},
   "outputs": [
    {
     "name": "stdout",
     "output_type": "stream",
     "text": [
      "717.0\n"
     ]
    }
   ],
   "source": [
    "while len(to_search)>0:\n",
    "    cur_pos, score = to_search.pop()\n",
    "    next_pos  = getNextPositions(cur_pos,data)\n",
    "    for pos in next_pos:\n",
    "        next_score = data[pos]+score\n",
    "        if costs[pos]> next_score:\n",
    "#             print(pos, next_score, costs[pos])\n",
    "            costs[pos] = next_score\n",
    "            to_search.appendleft([pos,next_score.copy()])\n",
    "        else:\n",
    "            \"HERE\"\n",
    "print(costs[99,99])"
   ]
  },
  {
   "cell_type": "code",
   "execution_count": 129,
   "metadata": {},
   "outputs": [],
   "source": [
    "new_data = np.hstack([data+i for i in range(5)]\n",
    "         )"
   ]
  },
  {
   "cell_type": "code",
   "execution_count": 130,
   "metadata": {},
   "outputs": [
    {
     "data": {
      "text/plain": [
       "array([[6, 8, 5, ..., 3, 4, 3],\n",
       "       [9, 4, 2, ..., 1, 3, 5],\n",
       "       [3, 7, 9, ..., 4, 2, 2],\n",
       "       ...,\n",
       "       [2, 1, 2, ..., 5, 4, 2],\n",
       "       [7, 8, 6, ..., 6, 6, 2],\n",
       "       [8, 8, 8, ..., 7, 4, 8]])"
      ]
     },
     "execution_count": 130,
     "metadata": {},
     "output_type": "execute_result"
    }
   ],
   "source": [
    "new_data[new_data>9] = new_data[new_data>9]%10+1\n",
    "new_data"
   ]
  },
  {
   "cell_type": "code",
   "execution_count": 131,
   "metadata": {},
   "outputs": [
    {
     "data": {
      "text/plain": [
       "(500, 500)"
      ]
     },
     "execution_count": 131,
     "metadata": {},
     "output_type": "execute_result"
    }
   ],
   "source": [
    "newer_data = np.vstack([new_data+i for i in range(5)])\n",
    "newer_data.shape"
   ]
  },
  {
   "cell_type": "code",
   "execution_count": 132,
   "metadata": {},
   "outputs": [
    {
     "data": {
      "text/plain": [
       "array([[6, 8, 5, ..., 3, 4, 3],\n",
       "       [9, 4, 2, ..., 1, 3, 5],\n",
       "       [3, 7, 9, ..., 4, 2, 2],\n",
       "       ...,\n",
       "       [6, 5, 6, ..., 9, 8, 6],\n",
       "       [2, 3, 1, ..., 1, 1, 6],\n",
       "       [3, 3, 3, ..., 2, 8, 3]])"
      ]
     },
     "execution_count": 132,
     "metadata": {},
     "output_type": "execute_result"
    }
   ],
   "source": [
    "newer_data[newer_data>9] = newer_data[newer_data>9]%10+1\n",
    "newer_data"
   ]
  },
  {
   "cell_type": "code",
   "execution_count": 133,
   "metadata": {},
   "outputs": [],
   "source": [
    "costs = np.ones(newer_data.shape)*np.inf\n",
    "cur_pos = (0,0)\n",
    "score= 0\n",
    "to_search = deque([[cur_pos, score]])"
   ]
  },
  {
   "cell_type": "code",
   "execution_count": 134,
   "metadata": {},
   "outputs": [
    {
     "name": "stdout",
     "output_type": "stream",
     "text": [
      "2993.0\n"
     ]
    }
   ],
   "source": [
    "searched = []\n",
    "while len(to_search)>0:\n",
    "    \n",
    "    cur_pos, score = to_search.pop()\n",
    "    if score> costs[cur_pos]:\n",
    "#         print(\"skipping\")\n",
    "        continue\n",
    "    next_pos  = getNextPositions(cur_pos,newer_data)\n",
    "    for pos in next_pos:\n",
    "        next_score = newer_data[pos]+score\n",
    "#         print(costs[pos], next_score)\n",
    "        if costs[pos]> next_score:\n",
    "#             print(pos, next_score, costs[pos])\n",
    "            costs[pos] = next_score\n",
    "            to_search.appendleft([pos,next_score.copy()])\n",
    "        else:\n",
    "            pass\n",
    "print(costs[499,499])"
   ]
  }
 ],
 "metadata": {
  "kernelspec": {
   "display_name": "Python 3",
   "language": "python",
   "name": "python3"
  },
  "language_info": {
   "codemirror_mode": {
    "name": "ipython",
    "version": 3
   },
   "file_extension": ".py",
   "mimetype": "text/x-python",
   "name": "python",
   "nbconvert_exporter": "python",
   "pygments_lexer": "ipython3",
   "version": "3.8.5"
  }
 },
 "nbformat": 4,
 "nbformat_minor": 4
}
