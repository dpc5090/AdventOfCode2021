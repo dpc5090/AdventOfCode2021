{
 "cells": [
  {
   "cell_type": "code",
   "execution_count": 1,
   "metadata": {},
   "outputs": [],
   "source": [
    "from collections import Counter, deque"
   ]
  },
  {
   "cell_type": "code",
   "execution_count": 2,
   "metadata": {},
   "outputs": [],
   "source": [
    "import numpy as np\n",
    "import pandas as pd\n",
    "import heapq\n"
   ]
  },
  {
   "cell_type": "code",
   "execution_count": 3,
   "metadata": {},
   "outputs": [],
   "source": [
    "f = open(\"day10.txt\",'r')\n",
    "data = f.read().split(\"\\n\")\n"
   ]
  },
  {
   "cell_type": "code",
   "execution_count": 8,
   "metadata": {},
   "outputs": [],
   "source": [
    "data = np.array([[int(item) for item in row]for row in data])"
   ]
  },
  {
   "cell_type": "code",
   "execution_count": 5,
   "metadata": {},
   "outputs": [],
   "source": [
    "symbols = ['()','<>','{}','[]']"
   ]
  },
  {
   "cell_type": "code",
   "execution_count": 6,
   "metadata": {},
   "outputs": [],
   "source": [
    "close = ')>}]'\n",
    "opens = '(<{['"
   ]
  },
  {
   "cell_type": "code",
   "execution_count": 12,
   "metadata": {},
   "outputs": [
    {
     "data": {
      "text/plain": [
       "{')': 3, ']': 57, '}': 1197, '>': 25137}"
      ]
     },
     "execution_count": 12,
     "metadata": {},
     "output_type": "execute_result"
    }
   ],
   "source": [
    "val = {\")\":3,\"]\":57,\"}\":1197,\">\":25137}\n",
    "val"
   ]
  },
  {
   "cell_type": "code",
   "execution_count": 28,
   "metadata": {},
   "outputs": [
    {
     "data": {
      "text/plain": [
       "399153"
      ]
     },
     "execution_count": 28,
     "metadata": {},
     "output_type": "execute_result"
    }
   ],
   "source": [
    "score = 0\n",
    "for str_in in data:\n",
    "    change = True\n",
    "    \n",
    "    while change:\n",
    "        change = False\n",
    "        str_in_orig = str_in\n",
    "        change = False\n",
    "        for symb in symbols:\n",
    "            str_in = str_in.replace(symb,\"\")\n",
    "        if str_in != str_in_orig:\n",
    "            change = True\n",
    "    for c in str_in:\n",
    "        if c in close:\n",
    "            score+= val[c]\n",
    "            break\n",
    "    \n",
    "score"
   ]
  },
  {
   "cell_type": "code",
   "execution_count": 29,
   "metadata": {},
   "outputs": [],
   "source": [
    "reverse = {\"{\":\"}\",\"<\":\">\",\"[\":\"]\",\"(\":\")\"}"
   ]
  },
  {
   "cell_type": "code",
   "execution_count": 30,
   "metadata": {},
   "outputs": [
    {
     "data": {
      "text/plain": [
       "{')': 1, ']': 2, '}': 3, '>': 4}"
      ]
     },
     "execution_count": 30,
     "metadata": {},
     "output_type": "execute_result"
    }
   ],
   "source": [
    "values = {\")\":1,\"]\":2,\"}\":3,\">\":4}\n",
    "values"
   ]
  },
  {
   "cell_type": "code",
   "execution_count": 31,
   "metadata": {},
   "outputs": [],
   "source": [
    "scores = []\n",
    "for str_in in data:\n",
    "    change = True\n",
    "    \n",
    "    while change:\n",
    "        change = False\n",
    "        str_in_orig = str_in\n",
    "        change = False\n",
    "        for symb in symbols:\n",
    "            str_in = str_in.replace(symb,\"\")\n",
    "        if str_in != str_in_orig:\n",
    "            change = True\n",
    "    corrupt = False\n",
    "    for c in str_in:\n",
    "        if c in close:\n",
    "            score+= val[c]\n",
    "            corrupt = True\n",
    "            break\n",
    "            \n",
    "    if corrupt == False:\n",
    "        end = \"\"\n",
    "        for c in str_in:\n",
    "            end = reverse[c]+end\n",
    "        score = 0\n",
    "        for c in end:\n",
    "            score*=5\n",
    "            score+=values[c]\n",
    "#         print(score)\n",
    "        scores.append(score)\n",
    "    \n"
   ]
  },
  {
   "cell_type": "code",
   "execution_count": 32,
   "metadata": {},
   "outputs": [
    {
     "data": {
      "text/plain": [
       "2995077699"
      ]
     },
     "execution_count": 32,
     "metadata": {},
     "output_type": "execute_result"
    }
   ],
   "source": [
    "sorted(scores)[int(len(scores)/2)]"
   ]
  },
  {
   "cell_type": "code",
   "execution_count": null,
   "metadata": {},
   "outputs": [],
   "source": []
  }
 ],
 "metadata": {
  "kernelspec": {
   "display_name": "Python 3 (ipykernel)",
   "language": "python",
   "name": "python3"
  },
  "language_info": {
   "codemirror_mode": {
    "name": "ipython",
    "version": 3
   },
   "file_extension": ".py",
   "mimetype": "text/x-python",
   "name": "python",
   "nbconvert_exporter": "python",
   "pygments_lexer": "ipython3",
   "version": "3.10.1"
  }
 },
 "nbformat": 4,
 "nbformat_minor": 4
}
