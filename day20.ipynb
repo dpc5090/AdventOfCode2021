{
 "cells": [
  {
   "cell_type": "code",
   "execution_count": 1,
   "metadata": {},
   "outputs": [],
   "source": [
    "from collections import Counter, deque"
   ]
  },
  {
   "cell_type": "code",
   "execution_count": 2,
   "metadata": {},
   "outputs": [],
   "source": [
    "import numpy as np\n",
    "import pandas as pd\n",
    "import heapq"
   ]
  },
  {
   "cell_type": "code",
   "execution_count": 3,
   "metadata": {},
   "outputs": [],
   "source": [
    "f = open(\"day20.txt\",'r')\n",
    "str_in, data = f.read().split(\"\\n\\n\")"
   ]
  },
  {
   "cell_type": "code",
   "execution_count": 4,
   "metadata": {
    "scrolled": true
   },
   "outputs": [],
   "source": [
    "str_in = str_in.replace(\"\\n\",\"\")"
   ]
  },
  {
   "cell_type": "code",
   "execution_count": 5,
   "metadata": {},
   "outputs": [],
   "source": [
    "data = data.replace(\".\",\"0\").replace(\"#\",\"1\")"
   ]
  },
  {
   "cell_type": "code",
   "execution_count": 6,
   "metadata": {},
   "outputs": [],
   "source": [
    "np_data = np.array([[int(item) for item in row]for row in data.split(\"\\n\")])"
   ]
  },
  {
   "cell_type": "code",
   "execution_count": 7,
   "metadata": {},
   "outputs": [],
   "source": [
    "def padData(data, i):\n",
    "    if i%2 == 1:\n",
    "        zeros = np.ones([data.shape[0]+6,data.shape[1]+6])\n",
    "    else:\n",
    "        zeros = np.zeros([data.shape[0]+6,data.shape[1]+6])\n",
    "    zeros[3:-3,3:-3] = data\n",
    "    return zeros\n"
   ]
  },
  {
   "cell_type": "code",
   "execution_count": 8,
   "metadata": {},
   "outputs": [],
   "source": [
    "def enhance(data):\n",
    "    new_data = np.zeros(data.shape)\n",
    "    for i in range(1,len(data)-1):\n",
    "        for j in range(1,len(data)-1):\n",
    "            sub_data = data[i-1:i+2, j-1:j+2].astype(int).astype(str)\n",
    "\n",
    "            bin_str = \"\".join(list(sub_data[0]))+\"\".join(list(sub_data[1]))+\"\".join(list(sub_data[2]))\n",
    "            \n",
    "            new_val = str_in[int(bin_str,2)]\n",
    "            if new_val == \"#\":\n",
    "                new_data[i,j] = 1\n",
    "    \n",
    "    return new_data\n"
   ]
  },
  {
   "cell_type": "code",
   "execution_count": 9,
   "metadata": {},
   "outputs": [
    {
     "name": "stdout",
     "output_type": "stream",
     "text": [
      "5647.0\n"
     ]
    }
   ],
   "source": [
    "temp = np_data.copy()\n",
    "for i in range(2):\n",
    "    temp = padData(temp, i)\n",
    "    temp = enhance(temp)\n",
    "\n",
    "\n",
    "    if i%2 == 0:\n",
    "        temp[0,:] = 1\n",
    "        temp[-1,:] = 1\n",
    "        temp[:,0] = 1\n",
    "        temp[:,-1] = 1\n",
    "print(temp.sum())"
   ]
  },
  {
   "cell_type": "code",
   "execution_count": 10,
   "metadata": {},
   "outputs": [
    {
     "name": "stdout",
     "output_type": "stream",
     "text": [
      "15653.0\n"
     ]
    }
   ],
   "source": [
    "temp = np_data.copy()\n",
    "for i in range(50):\n",
    "#     print(i)\n",
    "    temp = padData(temp, i)\n",
    "    temp = enhance(temp)\n",
    "    if i%2 == 0:\n",
    "        temp[0,:] = 1\n",
    "        temp[-1,:] = 1\n",
    "        temp[:,0] = 1\n",
    "        temp[:,-1] = 1\n",
    "print(temp.sum())"
   ]
  },
  {
   "cell_type": "code",
   "execution_count": null,
   "metadata": {},
   "outputs": [],
   "source": []
  },
  {
   "cell_type": "code",
   "execution_count": null,
   "metadata": {},
   "outputs": [],
   "source": []
  }
 ],
 "metadata": {
  "kernelspec": {
   "display_name": "Python 3",
   "language": "python",
   "name": "python3"
  },
  "language_info": {
   "codemirror_mode": {
    "name": "ipython",
    "version": 3
   },
   "file_extension": ".py",
   "mimetype": "text/x-python",
   "name": "python",
   "nbconvert_exporter": "python",
   "pygments_lexer": "ipython3",
   "version": "3.8.5"
  }
 },
 "nbformat": 4,
 "nbformat_minor": 4
}
