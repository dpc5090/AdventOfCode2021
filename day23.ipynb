{
 "cells": [
  {
   "cell_type": "code",
   "execution_count": 1,
   "metadata": {},
   "outputs": [],
   "source": [
    "from collections import Counter, deque"
   ]
  },
  {
   "cell_type": "code",
   "execution_count": 2,
   "metadata": {},
   "outputs": [],
   "source": [
    "import numpy as np\n",
    "import pandas as pd\n",
    "from tqdm.notebook import tqdm\n",
    "import heapq"
   ]
  },
  {
   "cell_type": "code",
   "execution_count": 3,
   "metadata": {},
   "outputs": [],
   "source": [
    "f = open(\"day23.txt\",'r')\n",
    "data = f.read().split(\"\\n\")\n",
    "\n",
    "\n",
    "position_map = {}\n",
    "for i, line in enumerate(data):\n",
    "    for j, letter in enumerate(line):\n",
    "        if letter == \".\" or letter.isalpha():\n",
    "            position_map[(i,j)] =letter\n"
   ]
  },
  {
   "cell_type": "code",
   "execution_count": 4,
   "metadata": {},
   "outputs": [],
   "source": [
    "letter_map = {\"A\":3,\"B\":5,\"C\":7,\"D\":9}"
   ]
  },
  {
   "cell_type": "code",
   "execution_count": 5,
   "metadata": {},
   "outputs": [],
   "source": [
    "def getMoves(i,j):\n",
    "    final_moves = []\n",
    "    if position_map[(i,j)] == \".\":\n",
    "        return []\n",
    "    if i>1:\n",
    "        done = True\n",
    "        for x in range(i,len(data)-2+1):\n",
    "            if j == letter_map[position_map[(x,j)]]:\n",
    "                pass \n",
    "            else:\n",
    "                done = False\n",
    "                break\n",
    "        if done:\n",
    "            return []\n",
    "        for x in range(1,i)[::-1]:\n",
    "            if position_map[(x,j)] != '.':\n",
    "                return []\n",
    "        potential_moves = []\n",
    "        for key, val in position_map.items():\n",
    "            if val == '.' and key[1] not in letter_map.values():\n",
    "                potential_moves.append(key)\n",
    "        for move in potential_moves:\n",
    "            i2,j2 = move\n",
    "            if i2 == 1:\n",
    "                good = True\n",
    "                for x in range(min(j,j2)+1,max(j,j2)+1):\n",
    "                    if position_map[(i2,x)] == \".\":\n",
    "                        pass\n",
    "                    else:\n",
    "                        good = False\n",
    "                if good:\n",
    "                    final_moves.append(move)\n",
    "    if i == 1:\n",
    "    \n",
    "        for x in range(2,len(data)-2+1)[::-1]:\n",
    "            blocked = False\n",
    "            for y in range(min(j,letter_map[position_map[(i,j)]])+1, max(j,letter_map[position_map[(i,j)]]),):\n",
    "#                 print(y)\n",
    "                if position_map[(1,y)] == \".\":\n",
    "                    pass\n",
    "                else:\n",
    "                    blocked = True\n",
    "                    break\n",
    "            if blocked:\n",
    "                break\n",
    "            if position_map[(x, letter_map[position_map[(i,j)]])] == \".\":\n",
    "                final_moves.append((x,letter_map[position_map[(i,j)]]))\n",
    "                break\n",
    "            elif  position_map[(x, letter_map[position_map[(i,j)]])] == position_map[(i,j)]:\n",
    "                continue\n",
    "            else:\n",
    "                break\n",
    "\n",
    "    return final_moves"
   ]
  },
  {
   "cell_type": "code",
   "execution_count": 24,
   "metadata": {},
   "outputs": [],
   "source": [
    "def printMap(position_map):\n",
    "    for i in range(len(data)-2+1):\n",
    "        str_out = \"\"\n",
    "        for j in range(13):\n",
    "            if (i,j) in position_map:\n",
    "                str_out+=position_map[(i,j)]\n",
    "            else:\n",
    "                str_out+=\"#\"\n",
    "        print(str_out)\n",
    "    print(\"#\"*13)\n"
   ]
  },
  {
   "cell_type": "code",
   "execution_count": 25,
   "metadata": {},
   "outputs": [
    {
     "name": "stdout",
     "output_type": "stream",
     "text": [
      "#############\n",
      "#AA.D.D.C.CD#\n",
      "###.#.#.#B###\n",
      "###.#.#B#A###\n",
      "###.#.#A#C###\n",
      "###C#B#D#B###\n",
      "#############\n"
     ]
    },
    {
     "data": {
      "text/plain": [
       "[]"
      ]
     },
     "execution_count": 25,
     "metadata": {},
     "output_type": "execute_result"
    }
   ],
   "source": [
    "printMap(position_map)\n",
    "getMoves(1,2)"
   ]
  },
  {
   "cell_type": "code",
   "execution_count": 9,
   "metadata": {},
   "outputs": [
    {
     "data": {
      "text/plain": [
       "{3: 'A', 5: 'B', 7: 'C', 9: 'D'}"
      ]
     },
     "execution_count": 9,
     "metadata": {},
     "output_type": "execute_result"
    }
   ],
   "source": [
    "reverse_letter_map = {val:key for key,val in letter_map.items()}\n",
    "reverse_letter_map"
   ]
  },
  {
   "cell_type": "code",
   "execution_count": 31,
   "metadata": {},
   "outputs": [
    {
     "name": "stdout",
     "output_type": "stream",
     "text": [
      "#############\n",
      "#...........#\n",
      "###A#B#C#D###\n",
      "###A#B#C#D###\n",
      "###A#B#C#D###\n",
      "###A#B#C#D###\n",
      "#############\n"
     ]
    }
   ],
   "source": [
    "done_map = {}\n",
    "for key in position_map:\n",
    "    if key[0]==1:\n",
    "        done_map[key] =\".\"\n",
    "    else:\n",
    "        done_map[key] = reverse_letter_map[key[1]]\n",
    "printMap(done_map)"
   ]
  },
  {
   "cell_type": "code",
   "execution_count": 11,
   "metadata": {},
   "outputs": [],
   "source": [
    "cost_dict ={\"A\":1,\"B\":10,\"C\":100,\"D\":1000}"
   ]
  },
  {
   "cell_type": "code",
   "execution_count": 12,
   "metadata": {},
   "outputs": [
    {
     "name": "stdout",
     "output_type": "stream",
     "text": [
      "#############\n",
      "#...........#\n",
      "###A#B#C#D###\n",
      "###A#B#C#D###\n",
      "#############\n"
     ]
    }
   ],
   "source": [
    "printMap(done_map)"
   ]
  },
  {
   "cell_type": "code",
   "execution_count": 13,
   "metadata": {},
   "outputs": [
    {
     "data": {
      "text/plain": [
       "3"
      ]
     },
     "execution_count": 13,
     "metadata": {},
     "output_type": "execute_result"
    }
   ],
   "source": [
    "len(data)-2"
   ]
  },
  {
   "cell_type": "code",
   "execution_count": 14,
   "metadata": {},
   "outputs": [],
   "source": [
    "f = open(\"day23.txt\",'r')\n",
    "data = f.read().split(\"\\n\")\n",
    "\n",
    "position_map = {}\n",
    "for i, line in enumerate(data):\n",
    "    for j, letter in enumerate(line):\n",
    "        if letter == \".\" or letter.isalpha():\n",
    "            position_map[(i,j)] =letter\n"
   ]
  },
  {
   "cell_type": "code",
   "execution_count": 15,
   "metadata": {},
   "outputs": [
    {
     "name": "stdout",
     "output_type": "stream",
     "text": [
      "DONE 133 86 25717\n",
      "DONE 1550 84 25713\n",
      "DONE 2987 88 25513\n",
      "DONE 7710 81 21717\n",
      "DONE 8440 80 21713\n",
      "DONE 9189 82 13917\n",
      "DONE 9244 83 13717\n",
      "DONE 13096 80 13713\n",
      "DONE 20026 84 13711\n",
      "DONE 117704 85 13521\n",
      "DONE 130827 89 13515\n",
      "DONE 13190954 59 13507\n",
      "DONE 13190975 58 13505\n",
      "DONE 13190994 57 13501\n",
      "DONE 13199889 60 13495\n"
     ]
    },
    {
     "ename": "KeyboardInterrupt",
     "evalue": "",
     "output_type": "error",
     "traceback": [
      "\u001b[1;31m---------------------------------------------------------------------------\u001b[0m",
      "\u001b[1;31mKeyboardInterrupt\u001b[0m                         Traceback (most recent call last)",
      "\u001b[1;32m<ipython-input-15-7bba1991276d>\u001b[0m in \u001b[0;36m<module>\u001b[1;34m\u001b[0m\n\u001b[0;32m     24\u001b[0m     \u001b[1;32mfor\u001b[0m \u001b[0mkey\u001b[0m\u001b[1;33m,\u001b[0m \u001b[0mvalue\u001b[0m \u001b[1;32min\u001b[0m \u001b[0mposition_map\u001b[0m\u001b[1;33m.\u001b[0m\u001b[0mitems\u001b[0m\u001b[1;33m(\u001b[0m\u001b[1;33m)\u001b[0m\u001b[1;33m:\u001b[0m\u001b[1;33m\u001b[0m\u001b[1;33m\u001b[0m\u001b[0m\n\u001b[0;32m     25\u001b[0m         \u001b[1;32mif\u001b[0m \u001b[0mvalue\u001b[0m \u001b[1;33m!=\u001b[0m \u001b[1;34m\".\"\u001b[0m\u001b[1;33m:\u001b[0m\u001b[1;33m\u001b[0m\u001b[1;33m\u001b[0m\u001b[0m\n\u001b[1;32m---> 26\u001b[1;33m             \u001b[0mnext_move\u001b[0m \u001b[1;33m=\u001b[0m \u001b[1;33m(\u001b[0m\u001b[0mgetMoves\u001b[0m\u001b[1;33m(\u001b[0m\u001b[0mkey\u001b[0m\u001b[1;33m[\u001b[0m\u001b[1;36m0\u001b[0m\u001b[1;33m]\u001b[0m\u001b[1;33m,\u001b[0m\u001b[0mkey\u001b[0m\u001b[1;33m[\u001b[0m\u001b[1;36m1\u001b[0m\u001b[1;33m]\u001b[0m\u001b[1;33m)\u001b[0m\u001b[1;33m)\u001b[0m\u001b[1;33m\u001b[0m\u001b[1;33m\u001b[0m\u001b[0m\n\u001b[0m\u001b[0;32m     27\u001b[0m             \u001b[1;32mfor\u001b[0m \u001b[0mmove\u001b[0m \u001b[1;32min\u001b[0m \u001b[0mnext_move\u001b[0m\u001b[1;33m:\u001b[0m\u001b[1;33m\u001b[0m\u001b[1;33m\u001b[0m\u001b[0m\n\u001b[0;32m     28\u001b[0m                 \u001b[0mnext_pos_map\u001b[0m \u001b[1;33m=\u001b[0m \u001b[0mposition_map\u001b[0m\u001b[1;33m.\u001b[0m\u001b[0mcopy\u001b[0m\u001b[1;33m(\u001b[0m\u001b[1;33m)\u001b[0m\u001b[1;33m\u001b[0m\u001b[1;33m\u001b[0m\u001b[0m\n",
      "\u001b[1;32m<ipython-input-5-9560ada70111>\u001b[0m in \u001b[0;36mgetMoves\u001b[1;34m(i, j)\u001b[0m\n\u001b[0;32m     37\u001b[0m             \u001b[1;32mfor\u001b[0m \u001b[0my\u001b[0m \u001b[1;32min\u001b[0m \u001b[0mrange\u001b[0m\u001b[1;33m(\u001b[0m\u001b[0mmin\u001b[0m\u001b[1;33m(\u001b[0m\u001b[0mj\u001b[0m\u001b[1;33m,\u001b[0m\u001b[0mletter_map\u001b[0m\u001b[1;33m[\u001b[0m\u001b[0mposition_map\u001b[0m\u001b[1;33m[\u001b[0m\u001b[1;33m(\u001b[0m\u001b[0mi\u001b[0m\u001b[1;33m,\u001b[0m\u001b[0mj\u001b[0m\u001b[1;33m)\u001b[0m\u001b[1;33m]\u001b[0m\u001b[1;33m]\u001b[0m\u001b[1;33m)\u001b[0m\u001b[1;33m+\u001b[0m\u001b[1;36m1\u001b[0m\u001b[1;33m,\u001b[0m \u001b[0mmax\u001b[0m\u001b[1;33m(\u001b[0m\u001b[0mj\u001b[0m\u001b[1;33m,\u001b[0m\u001b[0mletter_map\u001b[0m\u001b[1;33m[\u001b[0m\u001b[0mposition_map\u001b[0m\u001b[1;33m[\u001b[0m\u001b[1;33m(\u001b[0m\u001b[0mi\u001b[0m\u001b[1;33m,\u001b[0m\u001b[0mj\u001b[0m\u001b[1;33m)\u001b[0m\u001b[1;33m]\u001b[0m\u001b[1;33m]\u001b[0m\u001b[1;33m)\u001b[0m\u001b[1;33m,\u001b[0m\u001b[1;33m)\u001b[0m\u001b[1;33m:\u001b[0m\u001b[1;33m\u001b[0m\u001b[1;33m\u001b[0m\u001b[0m\n\u001b[0;32m     38\u001b[0m \u001b[1;31m#                 print(y)\u001b[0m\u001b[1;33m\u001b[0m\u001b[1;33m\u001b[0m\u001b[1;33m\u001b[0m\u001b[0m\n\u001b[1;32m---> 39\u001b[1;33m                 \u001b[1;32mif\u001b[0m \u001b[0mposition_map\u001b[0m\u001b[1;33m[\u001b[0m\u001b[1;33m(\u001b[0m\u001b[1;36m1\u001b[0m\u001b[1;33m,\u001b[0m\u001b[0my\u001b[0m\u001b[1;33m)\u001b[0m\u001b[1;33m]\u001b[0m \u001b[1;33m==\u001b[0m \u001b[1;34m\".\"\u001b[0m\u001b[1;33m:\u001b[0m\u001b[1;33m\u001b[0m\u001b[1;33m\u001b[0m\u001b[0m\n\u001b[0m\u001b[0;32m     40\u001b[0m                     \u001b[1;32mpass\u001b[0m\u001b[1;33m\u001b[0m\u001b[1;33m\u001b[0m\u001b[0m\n\u001b[0;32m     41\u001b[0m                 \u001b[1;32melse\u001b[0m\u001b[1;33m:\u001b[0m\u001b[1;33m\u001b[0m\u001b[1;33m\u001b[0m\u001b[0m\n",
      "\u001b[1;31mKeyboardInterrupt\u001b[0m: "
     ]
    }
   ],
   "source": [
    "count = 0\n",
    "min_cost = np.inf\n",
    "\n",
    "cost = 0\n",
    "to_search = deque([[position_map, cost, []]])\n",
    "\n",
    "while len(to_search)>0:\n",
    "    count+=1\n",
    "    \n",
    "    position_map, cost, steps = to_search.pop()\n",
    "    steps.append(position_map.copy())\n",
    "\n",
    "    if position_map == done_map:\n",
    "        if cost<min_cost:\n",
    "            min_cost = min(min_cost,cost)\n",
    "#             print(\"DONE\",count, len(to_search), min_cost)\n",
    "\n",
    "            print(\"DONE\",count, len(to_search), min_cost)\n",
    "\n",
    "        min_cost = min(min_cost,cost)\n",
    "        \n",
    "    if cost> min_cost:\n",
    "        continue\n",
    "    for key, value in position_map.items():\n",
    "        if value != \".\":\n",
    "            next_move = (getMoves(key[0],key[1]))\n",
    "            for move in next_move:\n",
    "                next_pos_map = position_map.copy()\n",
    "                next_pos_map[key] = '.'\n",
    "                next_pos_map[move] = value\n",
    "                next_cost = cost+(abs(key[0]-move[0])+abs(key[1]-move[1]))*cost_dict[value]\n",
    "                if next_cost>min_cost:\n",
    "                    continue\n",
    "                to_search.append([next_pos_map.copy(), next_cost, steps.copy()])\n",
    "print(\"DONEDONEDONE\", min_cost)"
   ]
  },
  {
   "cell_type": "code",
   "execution_count": 32,
   "metadata": {},
   "outputs": [
    {
     "name": "stdout",
     "output_type": "stream",
     "text": [
      "DONE 433785 95 53967\n",
      "DONE 472322 94 53767\n",
      "DONEDONEDONE 53767\n"
     ]
    }
   ],
   "source": [
    "f = open(\"day23.txt\",'r')\n",
    "data = f.read().split(\"\\n\")\n",
    "data = data[:3]+'''  #D#C#B#A#\n",
    "  #D#B#A#C#'''.split(\"\\n\")+data[3:]\n",
    "done_map = {}\n",
    "for key in position_map:\n",
    "    if key[0]==1:\n",
    "        done_map[key] =\".\"\n",
    "    else:\n",
    "        done_map[key] = reverse_letter_map[key[1]]\n",
    "position_map = {}\n",
    "for i, line in enumerate(data):\n",
    "    for j, letter in enumerate(line):\n",
    "        if letter == \".\" or letter.isalpha():\n",
    "            position_map[(i,j)] =letter\n",
    "count = 0\n",
    "min_cost = np.inf\n",
    "\n",
    "cost = 0\n",
    "to_search = deque([[position_map, cost, []]])\n",
    "max_steps = []\n",
    "while len(to_search)>0:\n",
    "    count+=1\n",
    "    \n",
    "    position_map, cost, steps = to_search.pop()\n",
    "    if len(steps)>len(max_steps):\n",
    "        max_steps = steps\n",
    "    steps.append(position_map.copy())\n",
    "\n",
    "    if position_map == done_map:\n",
    "        if cost<min_cost:\n",
    "            min_cost = min(min_cost,cost)\n",
    "#             print(\"DONE\",count, len(to_search), min_cost)\n",
    "\n",
    "            print(\"DONE\",count, len(to_search), min_cost)\n",
    "\n",
    "        min_cost = min(min_cost,cost)\n",
    "        \n",
    "    if cost> min_cost:\n",
    "        continue\n",
    "    for key, value in position_map.items():\n",
    "        if value != \".\":\n",
    "            next_move = (getMoves(key[0],key[1]))\n",
    "            for move in next_move:\n",
    "                next_pos_map = position_map.copy()\n",
    "                next_pos_map[key] = '.'\n",
    "                next_pos_map[move] = value\n",
    "                next_cost = cost+(abs(key[0]-move[0])+abs(key[1]-move[1]))*cost_dict[value]\n",
    "                if next_cost>min_cost:\n",
    "                    continue\n",
    "                to_search.append([next_pos_map.copy(), next_cost, steps.copy()])\n",
    "print(\"DONEDONEDONE\", min_cost)"
   ]
  },
  {
   "cell_type": "code",
   "execution_count": null,
   "metadata": {},
   "outputs": [],
   "source": []
  },
  {
   "cell_type": "code",
   "execution_count": 30,
   "metadata": {},
   "outputs": [
    {
     "name": "stdout",
     "output_type": "stream",
     "text": [
      "#############\n",
      "#...........#\n",
      "###A#D#A#B###\n",
      "###D#C#B#A###\n",
      "###D#B#A#C###\n",
      "###C#C#D#B###\n",
      "#############\n",
      "\n",
      "#############\n",
      "#..........A#\n",
      "###A#D#.#B###\n",
      "###D#C#B#A###\n",
      "###D#B#A#C###\n",
      "###C#C#D#B###\n",
      "#############\n",
      "\n",
      "#############\n",
      "#.........BA#\n",
      "###A#D#.#B###\n",
      "###D#C#.#A###\n",
      "###D#B#A#C###\n",
      "###C#C#D#B###\n",
      "#############\n",
      "\n",
      "#############\n",
      "#A........BA#\n",
      "###A#D#.#B###\n",
      "###D#C#.#A###\n",
      "###D#B#.#C###\n",
      "###C#C#D#B###\n",
      "#############\n",
      "\n",
      "#############\n",
      "#AD.......BA#\n",
      "###A#D#.#B###\n",
      "###D#C#.#A###\n",
      "###D#B#.#C###\n",
      "###C#C#.#B###\n",
      "#############\n",
      "\n",
      "#############\n",
      "#AD.D.....BA#\n",
      "###A#.#.#B###\n",
      "###D#C#.#A###\n",
      "###D#B#.#C###\n",
      "###C#C#.#B###\n",
      "#############\n",
      "\n",
      "#############\n",
      "#AD.D...C.BA#\n",
      "###A#.#.#B###\n",
      "###D#.#.#A###\n",
      "###D#B#.#C###\n",
      "###C#C#.#B###\n",
      "#############\n",
      "\n",
      "#############\n",
      "#AD.D.....BA#\n",
      "###A#.#.#B###\n",
      "###D#.#.#A###\n",
      "###D#B#.#C###\n",
      "###C#C#C#B###\n",
      "#############\n",
      "\n",
      "#############\n",
      "#AD.D...B.BA#\n",
      "###A#.#.#B###\n",
      "###D#.#.#A###\n",
      "###D#.#.#C###\n",
      "###C#C#C#B###\n",
      "#############\n",
      "\n",
      "#############\n",
      "#AD.D.C.B.BA#\n",
      "###A#.#.#B###\n",
      "###D#.#.#A###\n",
      "###D#.#.#C###\n",
      "###C#.#C#B###\n",
      "#############\n",
      "\n",
      "#############\n",
      "#AD.D...B.BA#\n",
      "###A#.#.#B###\n",
      "###D#.#.#A###\n",
      "###D#.#C#C###\n",
      "###C#.#C#B###\n",
      "#############\n",
      "\n",
      "#############\n",
      "#AD.D.....BA#\n",
      "###A#.#.#B###\n",
      "###D#.#.#A###\n",
      "###D#.#C#C###\n",
      "###C#B#C#B###\n",
      "#############\n",
      "\n",
      "#############\n",
      "#AD.D...B.BA#\n",
      "###A#.#.#.###\n",
      "###D#.#.#A###\n",
      "###D#.#C#C###\n",
      "###C#B#C#B###\n",
      "#############\n",
      "\n",
      "#############\n",
      "#AD.D.....BA#\n",
      "###A#.#.#.###\n",
      "###D#.#.#A###\n",
      "###D#B#C#C###\n",
      "###C#B#C#B###\n",
      "#############\n",
      "\n",
      "#############\n",
      "#AD.D......A#\n",
      "###A#.#.#.###\n",
      "###D#B#.#A###\n",
      "###D#B#C#C###\n",
      "###C#B#C#B###\n",
      "#############\n",
      "\n",
      "#############\n",
      "#AD.D.....AA#\n",
      "###A#.#.#.###\n",
      "###D#B#.#.###\n",
      "###D#B#C#C###\n",
      "###C#B#C#B###\n",
      "#############\n",
      "\n",
      "#############\n",
      "#AD.D...C.AA#\n",
      "###A#.#.#.###\n",
      "###D#B#.#.###\n",
      "###D#B#C#.###\n",
      "###C#B#C#B###\n",
      "#############\n",
      "\n",
      "#############\n",
      "#AD.D.....AA#\n",
      "###A#.#.#.###\n",
      "###D#B#C#.###\n",
      "###D#B#C#.###\n",
      "###C#B#C#B###\n",
      "#############\n",
      "\n",
      "#############\n",
      "#AD.D...B.AA#\n",
      "###A#.#.#.###\n",
      "###D#B#C#.###\n",
      "###D#B#C#.###\n",
      "###C#B#C#.###\n",
      "#############\n",
      "\n",
      "#############\n",
      "#AD.D.....AA#\n",
      "###A#B#.#.###\n",
      "###D#B#C#.###\n",
      "###D#B#C#.###\n",
      "###C#B#C#.###\n",
      "#############\n",
      "\n",
      "#############\n",
      "#AD.......AA#\n",
      "###A#B#.#.###\n",
      "###D#B#C#.###\n",
      "###D#B#C#.###\n",
      "###C#B#C#D###\n",
      "#############\n",
      "\n",
      "#############\n",
      "#A........AA#\n",
      "###A#B#.#.###\n",
      "###D#B#C#.###\n",
      "###D#B#C#D###\n",
      "###C#B#C#D###\n",
      "#############\n",
      "\n",
      "#############\n",
      "#AA.......AA#\n",
      "###.#B#.#.###\n",
      "###D#B#C#.###\n",
      "###D#B#C#D###\n",
      "###C#B#C#D###\n",
      "#############\n",
      "\n",
      "#############\n",
      "#AA.....D.AA#\n",
      "###.#B#.#.###\n",
      "###.#B#C#.###\n",
      "###D#B#C#D###\n",
      "###C#B#C#D###\n",
      "#############\n",
      "\n",
      "#############\n",
      "#AA...D.D.AA#\n",
      "###.#B#.#.###\n",
      "###.#B#C#.###\n",
      "###.#B#C#D###\n",
      "###C#B#C#D###\n",
      "#############\n",
      "\n",
      "#############\n",
      "#AA.C.D.D.AA#\n",
      "###.#B#.#.###\n",
      "###.#B#C#.###\n",
      "###.#B#C#D###\n",
      "###.#B#C#D###\n",
      "#############\n",
      "\n",
      "#############\n",
      "#AA.C.D...AA#\n",
      "###.#B#.#.###\n",
      "###.#B#C#D###\n",
      "###.#B#C#D###\n",
      "###.#B#C#D###\n",
      "#############\n",
      "\n",
      "#############\n",
      "#AA.C.....AA#\n",
      "###.#B#.#D###\n",
      "###.#B#C#D###\n",
      "###.#B#C#D###\n",
      "###.#B#C#D###\n",
      "#############\n",
      "\n",
      "#############\n",
      "#AA.......AA#\n",
      "###.#B#C#D###\n",
      "###.#B#C#D###\n",
      "###.#B#C#D###\n",
      "###.#B#C#D###\n",
      "#############\n",
      "\n",
      "#############\n",
      "#AA........A#\n",
      "###.#B#C#D###\n",
      "###.#B#C#D###\n",
      "###.#B#C#D###\n",
      "###A#B#C#D###\n",
      "#############\n",
      "\n",
      "#############\n",
      "#AA.........#\n",
      "###.#B#C#D###\n",
      "###.#B#C#D###\n",
      "###A#B#C#D###\n",
      "###A#B#C#D###\n",
      "#############\n",
      "\n",
      "#############\n",
      "#A..........#\n",
      "###.#B#C#D###\n",
      "###A#B#C#D###\n",
      "###A#B#C#D###\n",
      "###A#B#C#D###\n",
      "#############\n",
      "\n"
     ]
    }
   ],
   "source": [
    "for step in max_steps:\n",
    "    printMap(step)\n",
    "    print()"
   ]
  },
  {
   "cell_type": "code",
   "execution_count": 17,
   "metadata": {},
   "outputs": [
    {
     "data": {
      "text/plain": [
       "['#############',\n",
       " '#...........#',\n",
       " '###A#D#A#B###',\n",
       " '  #C#C#D#B#',\n",
       " '  #########']"
      ]
     },
     "execution_count": 17,
     "metadata": {},
     "output_type": "execute_result"
    }
   ],
   "source": [
    "data"
   ]
  },
  {
   "cell_type": "code",
   "execution_count": null,
   "metadata": {},
   "outputs": [],
   "source": [
    "for step in steps:\n",
    "    printMap(step)\n",
    "    print()"
   ]
  },
  {
   "cell_type": "code",
   "execution_count": 38,
   "metadata": {},
   "outputs": [],
   "source": [
    "position_map = step"
   ]
  },
  {
   "cell_type": "code",
   "execution_count": 39,
   "metadata": {},
   "outputs": [
    {
     "data": {
      "text/plain": [
       "[]"
      ]
     },
     "execution_count": 39,
     "metadata": {},
     "output_type": "execute_result"
    }
   ],
   "source": [
    "getMoves(1,2)"
   ]
  },
  {
   "cell_type": "code",
   "execution_count": 154,
   "metadata": {},
   "outputs": [
    {
     "name": "stdout",
     "output_type": "stream",
     "text": [
      "#############\n",
      "#D..C.......#\n",
      "###A#B#.#.###\n",
      "###A#B#C#D###\n",
      "#############\n"
     ]
    }
   ],
   "source": [
    "printMap(position_map)"
   ]
  },
  {
   "cell_type": "code",
   "execution_count": 149,
   "metadata": {},
   "outputs": [
    {
     "data": {
      "text/plain": [
       "{(1, 1): '.',\n",
       " (1, 2): 'C',\n",
       " (1, 3): '.',\n",
       " (1, 4): '.',\n",
       " (1, 5): '.',\n",
       " (1, 6): '.',\n",
       " (1, 7): '.',\n",
       " (1, 8): '.',\n",
       " (1, 9): '.',\n",
       " (1, 10): '.',\n",
       " (1, 11): '.',\n",
       " (2, 3): 'A',\n",
       " (2, 5): 'B',\n",
       " (2, 7): '.',\n",
       " (2, 9): 'D',\n",
       " (3, 3): 'A',\n",
       " (3, 5): 'B',\n",
       " (3, 7): 'C',\n",
       " (3, 9): 'D'}"
      ]
     },
     "execution_count": 149,
     "metadata": {},
     "output_type": "execute_result"
    }
   ],
   "source": [
    "position_map"
   ]
  },
  {
   "cell_type": "code",
   "execution_count": 151,
   "metadata": {},
   "outputs": [
    {
     "data": {
      "text/plain": [
       "13113"
      ]
     },
     "execution_count": 151,
     "metadata": {},
     "output_type": "execute_result"
    }
   ],
   "source": [
    "cost"
   ]
  },
  {
   "cell_type": "code",
   "execution_count": null,
   "metadata": {},
   "outputs": [],
   "source": []
  }
 ],
 "metadata": {
  "kernelspec": {
   "display_name": "Python 3",
   "language": "python",
   "name": "python3"
  },
  "language_info": {
   "codemirror_mode": {
    "name": "ipython",
    "version": 3
   },
   "file_extension": ".py",
   "mimetype": "text/x-python",
   "name": "python",
   "nbconvert_exporter": "python",
   "pygments_lexer": "ipython3",
   "version": "3.8.5"
  }
 },
 "nbformat": 4,
 "nbformat_minor": 4
}
