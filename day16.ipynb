{
 "cells": [
  {
   "cell_type": "code",
   "execution_count": 1,
   "metadata": {},
   "outputs": [],
   "source": [
    "from collections import Counter, deque"
   ]
  },
  {
   "cell_type": "code",
   "execution_count": 2,
   "metadata": {},
   "outputs": [],
   "source": [
    "import numpy as np\n",
    "import pandas as pd\n",
    "import heapq"
   ]
  },
  {
   "cell_type": "code",
   "execution_count": 3,
   "metadata": {},
   "outputs": [],
   "source": [
    "f = open(\"day16.txt\",'r')\n",
    "data = f.read().split(\"\\n\")"
   ]
  },
  {
   "cell_type": "code",
   "execution_count": 4,
   "metadata": {},
   "outputs": [],
   "source": [
    "mapper = '''0 = 0000\n",
    "1 = 0001\n",
    "2 = 0010\n",
    "3 = 0011\n",
    "4 = 0100\n",
    "5 = 0101\n",
    "6 = 0110\n",
    "7 = 0111\n",
    "8 = 1000\n",
    "9 = 1001\n",
    "A = 1010\n",
    "B = 1011\n",
    "C = 1100\n",
    "D = 1101\n",
    "E = 1110\n",
    "F = 1111'''.split(\"\\n\")"
   ]
  },
  {
   "cell_type": "code",
   "execution_count": 5,
   "metadata": {},
   "outputs": [],
   "source": [
    "map_dict = {row.split(\" = \")[0]:row.split(\" = \")[1] for row in mapper}"
   ]
  },
  {
   "cell_type": "code",
   "execution_count": 6,
   "metadata": {},
   "outputs": [],
   "source": [
    "full_str = \"\"\n",
    "for c in data[0]:\n",
    "    full_str+=map_dict[c]\n"
   ]
  },
  {
   "cell_type": "code",
   "execution_count": 7,
   "metadata": {},
   "outputs": [],
   "source": [
    "def moveStr(full_str,n):\n",
    "    global p\n",
    "    ret_str = full_str[:n]\n",
    "    full_str = full_str[n:]\n",
    "#     p+=n\n",
    "    return ret_str,full_str"
   ]
  },
  {
   "cell_type": "code",
   "execution_count": 8,
   "metadata": {},
   "outputs": [],
   "source": [
    "version_sum = 0\n",
    "def decode(full_str):\n",
    "    \n",
    "    global version_sum\n",
    "    p=0\n",
    "    v, full_str = moveStr(full_str,3)\n",
    "    t, full_str =  moveStr(full_str,3)\n",
    "    v_i = int(v,2)\n",
    "    version_sum+= v_i\n",
    "    t_i = int(t,2)\n",
    "    if t_i == 4:\n",
    "        running_str = \"\"\n",
    "        while True:\n",
    "\n",
    "            temp_str, full_str =  moveStr(full_str,5)\n",
    "            running_str += temp_str[1:]\n",
    "            if temp_str[0] == \"0\":\n",
    "                break\n",
    "        return (int(running_str,2)), full_str\n",
    "\n",
    "    i , full_str=  moveStr(full_str,1)\n",
    "    values = []\n",
    "    if i == \"0\":\n",
    "        length , full_str = moveStr(full_str,15)\n",
    "        l =  int(length,2)\n",
    "        sub_str, full_str =  moveStr(full_str,l)\n",
    "        values = []\n",
    "\n",
    "        while len(sub_str) >0:\n",
    "            val, sub_str  = decode(sub_str)\n",
    "            values.append(val)\n",
    "            if \"1\" not in sub_str:\n",
    "                break\n",
    "\n",
    "    else:\n",
    "        length, full_str =moveStr(full_str,11)\n",
    "        l = int(length,2)\n",
    "        values = []\n",
    "        for _ in range(l):\n",
    "\n",
    "            val, full_str =decode(full_str)\n",
    "            values.append(val)\n",
    "    if t_i == 0:\n",
    "        \n",
    "        return sum(values), full_str\n",
    "    elif t_i == 1:\n",
    "        ret = 1\n",
    "        for v in values:\n",
    "            ret*=v\n",
    "        return ret, full_str\n",
    "    elif t_i == 2:\n",
    "\n",
    "        return min(values), full_str\n",
    "    elif t_i == 3:\n",
    "\n",
    "        return max(values), full_str\n",
    "    elif t_i == 5:\n",
    "        ret = values[0]>values[1]\n",
    "        return int(ret),full_str\n",
    "    \n",
    "    elif t_i == 6:\n",
    "        ret = values[0]<values[1]\n",
    "        return int(ret),full_str\n",
    "    elif t_i == 7:\n",
    "        ret  = values[0] == values[1]\n",
    "        return int(ret),full_str\n",
    "    \n",
    "    \n",
    "    if \"1\" in full_str:\n",
    "        decode(full_str)\n",
    "        \n"
   ]
  },
  {
   "cell_type": "code",
   "execution_count": 9,
   "metadata": {},
   "outputs": [
    {
     "data": {
      "text/plain": [
       "(917, 2536453523344)"
      ]
     },
     "execution_count": 9,
     "metadata": {},
     "output_type": "execute_result"
    }
   ],
   "source": [
    "full_str = \"\".join([map_dict[c] for c in data[0]])\n",
    "version_sum=0\n",
    "output, full_str = decode(full_str)\n",
    "version_sum,output"
   ]
  },
  {
   "cell_type": "code",
   "execution_count": null,
   "metadata": {},
   "outputs": [],
   "source": []
  }
 ],
 "metadata": {
  "kernelspec": {
   "display_name": "Python 3",
   "language": "python",
   "name": "python3"
  },
  "language_info": {
   "codemirror_mode": {
    "name": "ipython",
    "version": 3
   },
   "file_extension": ".py",
   "mimetype": "text/x-python",
   "name": "python",
   "nbconvert_exporter": "python",
   "pygments_lexer": "ipython3",
   "version": "3.8.5"
  }
 },
 "nbformat": 4,
 "nbformat_minor": 4
}
